{
 "metadata": {
  "name": "",
  "signature": "sha256:053dccb754a4a0fe132ec88d95f68da26f7a51760e5aff06541f699cc90a32a2"
 },
 "nbformat": 3,
 "nbformat_minor": 0,
 "worksheets": [
  {
   "cells": [
    {
     "cell_type": "markdown",
     "metadata": {},
     "source": [
      "After having 1) set up the data analysis problem and 2) forged a good idea of the ideal data set (and corresponding analysis) for the problem, the first stage of the data analysis process is to start gathering relevant data in order to build the best possible approximation of your ideal data set. \n",
      "\n",
      "The internet (which is basically a giant interconnected file system hosting data files) is a great place to start. This data, however, may come from various websites and be in various formats. It will need to be unified and be put in a regular form--that is, into a collection of numerical arrays--on which to apply the data analysis algorithms described in the previous sections.\n",
      "\n",
      "Here, we will learn how to use R to:\n",
      "\n",
      "* download files from the internet\n",
      "* store them into directories on your local file systems\n",
      "* load data files in various formats (.csv, JSON, and XML) into appropriate R objects\n",
      "\n",
      "In particular, we will spend some time on the **XML format**, which stands for **eXtensible Markup Language**. The reason why this format is particularly interesting is that instead of structuring data in **tabular form**, it structures it in the form of a **graph**. A graph is a collection of **nodes** containing information. These nodes are related to each other through **links**, and one can access the information contained on one node just by traveling from node to node using the links. \n",
      "\n",
      "Data structured in this form encompass **HTML** pages (HTML can be roughly understood as a dialect of XML), the information hosted by internet websites (websites are related to each other by links, and one can regard the Google search tool as a way to bypass the internet's graph structure to get to the information directly), a computer file system (where many users store their data as they go, forming an increasingly intricate graph of directories and subdirectories), or the data of user profiles in social media networks. \n",
      "\n",
      "Graphical data is not regular, and statistical analysis is not readily applicable for data structured in this form. It needs to first be transformed into regular data--i.e., cubes of numbers--before statistical analysis can take place. "
     ]
    },
    {
     "cell_type": "heading",
     "level": 1,
     "metadata": {},
     "source": [
      "Libraries for data gathering"
     ]
    },
    {
     "cell_type": "markdown",
     "metadata": {},
     "source": [
      "\n",
      "**various data sources** (XML, jason, HTML, etc.) $\\longrightarrow$  **raw data tables** (csv, xls, etc.) \n",
      "\n",
      "This involves \n",
      "\n",
      "* **storing the raw data** into the local file system\n",
      "\n",
      "\n",
      "* **loading the raw data into R** (or Python) using **library** (or **modules**) corresponding to the raw data format\n",
      "\n",
      "\n",
      "* **creating data frames** containing the raw data\n",
      "\n",
      "\n",
      "* **saving the data in tabular format**  (as csv, xls, etc.)\n",
      "\n",
      "##R packages for data gathering\n",
      "\n",
      "You'll find [here](http://cran.r-project.org/web/packages/available_packages_by_name.html) a list of all availabe R packages.\n",
      "\n",
      "To install R packages on the OskiBox, the best way is to type in\n",
      "\n",
      "    sudo apt-get r-cran-PackageName\n",
      "    \n",
      "The [cran website](http://cran.us.r-project.org/) maitains a comprehensive list of the R packages available this way. \n",
      "\n",
      "To use the package after installation, you'll inkove the command:\n",
      "\n",
      "    library('package_name')\n",
      "    \n",
      "* [Package 'XML'](http://cran.r-project.org/web/packages/XML/index.html) for **HTML** and **XML** format processing\n",
      "* [Package 'scrapeR'](http://cran.r-project.org/web/packages/scrapeR/index.html) for webscraping (HTML and XML processing)\n",
      "* [Package 'RJSONIO'](http://cran.r-project.org/web/packages/RJSONIO/index.html) for **JSON** format processing\n",
      "* [Package 'xlsx'](http://cran.r-project.org/web/packages/xlsx/index.html) for **xls** (Excel spreadsheets) format processing\n",
      "* [Package 'httpRequest'](http://cran.r-project.org/web/packages/httpRequest/index.html) for requesting HTML pages from websites\n",
      "* [Packate 'RWeather'](http://cran.r-project.org/web/packages/RWeather/index.html) offers very convenient ways to retrieve weather data from various sources\n",
      "\n",
      "\n",
      "##Python packages for data gathering\n",
      "\n",
      "You'll find [here](https://pypi.python.org/pypi) a list of all availabe Python packages (or modules).\n",
      "\n",
      "To install a Python package to osky box the best way is :\n",
      "\n",
      "    sudo pip install package_name\n",
      "\n",
      "To use the package after installation, you'll inkove the command:\n",
      "\n",
      "    import package_name\n",
      "    \n",
      "* [module lxml](http://lxml.de) for **HTML** and **XML** scraping\n",
      "* [module json](http://docs.python.org/2/library/json.html) for **JSON** format processing\n",
      "* [module pandas](http://pandas.pydata.org/pandas-docs/dev/io.html) can read directly a variety of format directly into data frames (jason, excel, etc.).\n",
      "* [module request](docs.python-requests.org) for requesting HTML pages from websites\n",
      "* [module pandas.io.data](http://pandas.pydata.org/pandas-docs/dev/remote_data.html) offers very convenient ways to obtain data from the internet (mostly financial)"
     ]
    },
    {
     "cell_type": "markdown",
     "metadata": {},
     "source": [
      "Let us start by learning how to manipulate the local filesystem in your computer from R."
     ]
    },
    {
     "cell_type": "heading",
     "level": 2,
     "metadata": {
      "slideshow": {
       "slide_type": "slide"
      }
     },
     "source": [
      "Manipulating the file systems"
     ]
    },
    {
     "cell_type": "code",
     "collapsed": false,
     "input": [
      "%load_ext rmagic"
     ],
     "language": "python",
     "metadata": {
      "slideshow": {
       "slide_type": "fragment"
      }
     },
     "outputs": [],
     "prompt_number": 1
    },
    {
     "cell_type": "markdown",
     "metadata": {
      "slideshow": {
       "slide_type": "slide"
      }
     },
     "source": [
      "R offers a bunch of functions to \n",
      "\n",
      "* **list the files and directories** (see [here](http://stat.ethz.ch/R-manual/R-devel/library/base/html/list.files.html)):\n",
      "\n",
      "        list.files(path = \".\")    \n",
      "        list.dirs(path = \".\")\n",
      "        \n",
      "* **create and modify files** (see [here](http://stat.ethz.ch/R-manual/R-devel/library/base/html/files.html) for details):\n",
      "\n",
      "        file.create(path1, path2, etc.)\n",
      "        file.remove(path1, path2, etc.)\n",
      "        \n",
      "* **create directories** (see [here](http://stat.ethz.ch/R-manual/R-devel/library/base/html/files2.html) for details)\n",
      "\n",
      "        dir.create(path)\n",
      "        \n",
      "* **navigate the file system** (see [here](http://stat.ethz.ch/R-manual/R-devel/library/base/html/getwd.html)):\n",
      "\n",
      "    \n",
      "        getwd()\n",
      "        setwd(dir)\n",
      "        "
     ]
    },
    {
     "cell_type": "markdown",
     "metadata": {
      "slideshow": {
       "slide_type": "slide"
      }
     },
     "source": [
      "Let us create\n",
      "\n",
      "* a directory <code>'DATA'</code> to help us organize our data\n",
      "\n",
      "\n",
      "\n",
      "* a subdirectory <code>'raw'</code> to store the **raw data** collected from the web\n",
      "\n",
      "\n",
      "\n",
      "* a subdirectory <code>'cleaned'</code> to stored our final data after having cleaned the raw data\n",
      "\n",
      "and then let us set move to the raw directory."
     ]
    },
    {
     "cell_type": "code",
     "collapsed": false,
     "input": [
      "%%R\n",
      "\n",
      "data_dir    = './data'\n",
      "raw_dir     = paste(data_dir, '/raw', sep='')\n",
      "cleaned_dir = paste(data_dir, '/cleaned', sep='')\n",
      "\n",
      "dir.create(data_dir)\n",
      "dir.create(raw_dir)\n",
      "dir.create(cleaned_dir)"
     ],
     "language": "python",
     "metadata": {
      "slideshow": {
       "slide_type": "slide"
      }
     },
     "outputs": [],
     "prompt_number": 2
    },
    {
     "cell_type": "code",
     "collapsed": false,
     "input": [
      "!ls data/"
     ],
     "language": "python",
     "metadata": {
      "slideshow": {
       "slide_type": "fragment"
      }
     },
     "outputs": [
      {
       "output_type": "stream",
       "stream": "stdout",
       "text": [
        "cleaned  raw\r\n"
       ]
      }
     ],
     "prompt_number": 3
    },
    {
     "cell_type": "heading",
     "level": 2,
     "metadata": {
      "slideshow": {
       "slide_type": "slide"
      }
     },
     "source": [
      "Downloading files from the web"
     ]
    },
    {
     "cell_type": "markdown",
     "metadata": {
      "slideshow": {
       "slide_type": "slide"
      }
     },
     "source": [
      "To download a file from the internet in R and store it on the local file system, one uses the function:\n",
      "\n",
      "        download.file(fileUrl, destfile)\n",
      "        \n",
      "        "
     ]
    },
    {
     "cell_type": "markdown",
     "metadata": {},
     "source": [
      "        \n",
      "It is also a **good practice to keep track of the date** the data was downloaded, since data from the web may likely be updated. For that, one can\n",
      "\n",
      "* retrieve the current data with the function <code>date()</code>\n",
      "\n",
      "\n",
      "* include the date as part of the data file name"
     ]
    },
    {
     "cell_type": "markdown",
     "metadata": {},
     "source": [
      "However, from within the notebook, it is simpler to use bash `curl` command whose syntax is the following:\n",
      "\n",
      "    `curl yourURL > localFile`"
     ]
    },
    {
     "cell_type": "code",
     "collapsed": false,
     "input": [
      "%%R\n",
      "url = 'http://benoitdherin.github.io/data-analysis-with-R/data/houses.csv'\n",
      "download.file(url, 'myHouses.csv')\n"
     ],
     "language": "python",
     "metadata": {},
     "outputs": [
      {
       "metadata": {},
       "output_type": "display_data",
       "text": [
        "trying URL 'http://benoitdherin.github.io/data-analysis-with-R/data/houses.csv'\n",
        "Content type 'text/csv; charset=utf-8' length 3489 bytes\n",
        "opened URL\n",
        "==================================================\n",
        "downloaded 3489 bytes\n",
        "\n"
       ]
      }
     ],
     "prompt_number": 4
    },
    {
     "cell_type": "code",
     "collapsed": false,
     "input": [
      "%%R \n",
      "\n",
      "df = read.csv('myHouses.csv', header=T)\n",
      "print(head(df))"
     ],
     "language": "python",
     "metadata": {},
     "outputs": [
      {
       "metadata": {},
       "output_type": "display_data",
       "text": [
        "  House Taxes Bedrooms Baths Quadrant NW  price size   lot\n",
        "1     1  1360        3   2.0       NW  1 145000 1240 18000\n",
        "2     2  1050        1   1.0       NW  1  68000  370 25000\n",
        "3     3  1010        3   1.5       NW  1 115000 1130 25000\n",
        "4     4   830        3   2.0       SW  0  69000 1120 17000\n",
        "5     5  2150        3   2.0       NW  1 163000 1710 14000\n",
        "6     6  1230        3   2.0       NW  1  69900 1010  8000\n"
       ]
      }
     ],
     "prompt_number": 13
    },
    {
     "cell_type": "markdown",
     "metadata": {},
     "source": [
      "Alternatively, one could download the file immediately into R without storing it first on the local file system:"
     ]
    },
    {
     "cell_type": "code",
     "collapsed": false,
     "input": [
      "%%R\n",
      "\n",
      "dff = read.csv(url, header=T)\n",
      "print(head(dff))"
     ],
     "language": "python",
     "metadata": {},
     "outputs": [
      {
       "metadata": {},
       "output_type": "display_data",
       "text": [
        "  House Taxes Bedrooms Baths Quadrant NW  price size   lot\n",
        "1     1  1360        3   2.0       NW  1 145000 1240 18000\n",
        "2     2  1050        1   1.0       NW  1  68000  370 25000\n",
        "3     3  1010        3   1.5       NW  1 115000 1130 25000\n",
        "4     4   830        3   2.0       SW  0  69000 1120 17000\n",
        "5     5  2150        3   2.0       NW  1 163000 1710 14000\n",
        "6     6  1230        3   2.0       NW  1  69900 1010  8000\n"
       ]
      }
     ],
     "prompt_number": 16
    },
    {
     "cell_type": "markdown",
     "metadata": {
      "slideshow": {
       "slide_type": "slide"
      }
     },
     "source": [
      "**Example:** The [city of Baltimore](https://data.baltimorecity.gov/Transportation/Baltimore-Fixed-Speed-Cameras/dz54-2aru) offers an **API** (Application Programming Interface) allowing us to gather data on speed infractions in **different formats**:"
     ]
    },
    {
     "cell_type": "markdown",
     "metadata": {
      "slideshow": {
       "slide_type": "fragment"
      }
     },
     "source": [
      "* **csv** (Comma Separated Values)\n",
      "\n",
      "* **xml** (Extensible Markup Language)\n",
      "\n",
      "* **jason** (JavaScript Object Notation)\n",
      "\n",
      "* **xls** (Microsoft Excel file format)\n",
      "\n"
     ]
    },
    {
     "cell_type": "markdown",
     "metadata": {},
     "source": [
      "In this context, a **website API** is a set of rules that describe how to issues **requests** to a given webserver, say `benoitdherin.github.io` by adding **requests strings** after the webserver name in its `url`, say this string is `data-analysis-with-R`. If type this string into a browser the website  . For instance,  This request string tells the webserver what to return to your browser as a result of this urlThe general format for an url is the following:\n",
      "\n",
      "\n",
      "http://benoitdherin.github.io/data-analysis-with-R/data/houses.csv\n",
      "\n",
      "    http://web.server.name/re/que/st\n",
      "    \n",
      "The `re/que/st` is a string describing to the webserver what you'd like it returns to you. The simplest form of a request is the path (location) of a file (ressource)  on the webserver. The ressource that's returned to you is then  that file:"
     ]
    },
    {
     "cell_type": "markdown",
     "metadata": {},
     "source": [
      "Copied and pasted from the website:"
     ]
    },
    {
     "cell_type": "markdown",
     "metadata": {},
     "source": [
      "https://data.baltimorecity.gov/api/views/dz54-2aru/rows.csv?accessType=DOWNLOAD \n",
      "https://data.baltimorecity.gov/api/views/dz54-2aru/rows.json?accessType=DOWNLOAD\n",
      "https://data.baltimorecity.gov/api/views/dz54-2aru/rows.xml?accessType=DOWNLOAD"
     ]
    },
    {
     "cell_type": "code",
     "collapsed": false,
     "input": [
      "protocol    = 'https://'\n",
      "website     =  'data.baltimorecity.gov'\n",
      "location    =  '/api/views/dz54-2aru/'\n",
      "csvRequest  = 'rows.csv?accessType=DOWNLOAD'\n",
      "xmlRequest  = 'rows.xml?accessType=DOWNLOAD'\n",
      "jsonRequest = 'rows.json?accessType=DOWNLOAD'"
     ],
     "language": "python",
     "metadata": {},
     "outputs": [],
     "prompt_number": 17
    },
    {
     "cell_type": "markdown",
     "metadata": {
      "slideshow": {
       "slide_type": "slide"
      }
     },
     "source": [
      "To access this different data format, one neeed to use different urls:"
     ]
    },
    {
     "cell_type": "code",
     "collapsed": false,
     "input": [
      "csv_url = protocol  + website + location + csvRequest\n",
      "xml_url = protocol  + website + location + csvRequest\n",
      "json_url = protocol + website + location + csvRequest\n",
      "xls_url = protocol  + website + location + csvRequest\n",
      "\n",
      "print csv_url; print xml_url; print json_url; print xls_url\n",
      "\n",
      "!curl $csv_url > baltimore.csv\n",
      "!curl $csv_url > baltimore.xml\n",
      "!curl $csv_url > baltimore.json\n",
      "!curl $csv_url > baltimore.xls\n"
     ],
     "language": "python",
     "metadata": {
      "slideshow": {
       "slide_type": "fragment"
      }
     },
     "outputs": [
      {
       "output_type": "stream",
       "stream": "stdout",
       "text": [
        "https://data.baltimorecity.gov/api/views/dz54-2aru/rows.csv?accessType=DOWNLOAD\n",
        "https://data.baltimorecity.gov/api/views/dz54-2aru/rows.csv?accessType=DOWNLOAD\n",
        "https://data.baltimorecity.gov/api/views/dz54-2aru/rows.csv?accessType=DOWNLOAD\n",
        "https://data.baltimorecity.gov/api/views/dz54-2aru/rows.csv?accessType=DOWNLOAD\n",
        "  % Total    % Received % Xferd  Average Speed   Time    Time     Time  Current\r\n",
        "                                 Dload  Upload   Total   Spent    Left  Speed\r\n",
        "\r",
        "  0     0    0     0    0     0      0      0 --:--:-- --:--:-- --:--:--     0"
       ]
      },
      {
       "output_type": "stream",
       "stream": "stdout",
       "text": [
        "\r",
        "100  9294    0  9294    0     0  27566      0 --:--:-- --:--:-- --:--:-- 27578\r\n"
       ]
      },
      {
       "output_type": "stream",
       "stream": "stdout",
       "text": [
        "  % Total    % Received % Xferd  Average Speed   Time    Time     Time  Current\r\n",
        "                                 Dload  Upload   Total   Spent    Left  Speed\r\n",
        "\r",
        "  0     0    0     0    0     0      0      0 --:--:-- --:--:-- --:--:--     0"
       ]
      },
      {
       "output_type": "stream",
       "stream": "stdout",
       "text": [
        "\r",
        "100  9294    0  9294    0     0  37915      0 --:--:-- --:--:-- --:--:-- 37934\r\n"
       ]
      },
      {
       "output_type": "stream",
       "stream": "stdout",
       "text": [
        "  % Total    % Received % Xferd  Average Speed   Time    Time     Time  Current\r\n",
        "                                 Dload  Upload   Total   Spent    Left  Speed\r\n",
        "\r",
        "  0     0    0     0    0     0      0      0 --:--:-- --:--:-- --:--:--     0"
       ]
      },
      {
       "output_type": "stream",
       "stream": "stdout",
       "text": [
        "\r",
        "  0     0    0     0    0     0      0      0 --:--:-- --:--:-- --:--:--     0"
       ]
      },
      {
       "output_type": "stream",
       "stream": "stdout",
       "text": [
        "\r",
        "100  9294    0  9294    0     0  34646      0 --:--:-- --:--:-- --:--:-- 34550\r\n"
       ]
      },
      {
       "output_type": "stream",
       "stream": "stdout",
       "text": [
        "  % Total    % Received % Xferd  Average Speed   Time    Time     Time  Current\r\n",
        "                                 Dload  Upload   Total   Spent    Left  Speed\r\n",
        "\r",
        "  0     0    0     0    0     0      0      0 --:--:-- --:--:-- --:--:--     0"
       ]
      },
      {
       "output_type": "stream",
       "stream": "stdout",
       "text": [
        "\r",
        "100  9294    0  9294    0     0  34228      0 --:--:-- --:--:-- --:--:-- 34295\r\n"
       ]
      }
     ],
     "prompt_number": 18
    },
    {
     "cell_type": "markdown",
     "metadata": {
      "slideshow": {
       "slide_type": "slide"
      }
     },
     "source": [
      "Let us prepare prepare the names of the files in which we will store the data:"
     ]
    },
    {
     "cell_type": "heading",
     "level": 2,
     "metadata": {
      "slideshow": {
       "slide_type": "slide"
      }
     },
     "source": [
      "Loading  data into R"
     ]
    },
    {
     "cell_type": "markdown",
     "metadata": {
      "slideshow": {
       "slide_type": "fragment"
      }
     },
     "source": [
      "Different data formats are loaded with different functions. The resulting R object storing the data also depends on the format."
     ]
    },
    {
     "cell_type": "heading",
     "level": 3,
     "metadata": {
      "slideshow": {
       "slide_type": "slide"
      }
     },
     "source": [
      "Tabular format"
     ]
    },
    {
     "cell_type": "markdown",
     "metadata": {
      "slideshow": {
       "slide_type": "slide"
      }
     },
     "source": [
      "Data files in **tabular format** such as **csv** are loaded directly into data frame with the the function:\n",
      "\n",
      "    read.table(file, sep, header)\n",
      " \n",
      "\n",
      "    "
     ]
    },
    {
     "cell_type": "code",
     "collapsed": false,
     "input": [
      "%%R \n",
      "\n",
      "df = read.table('baltimore.csv', sep=',', header=TRUE)\n",
      "print(head(df))"
     ],
     "language": "python",
     "metadata": {
      "slideshow": {
       "slide_type": "fragment"
      }
     },
     "outputs": [
      {
       "metadata": {},
       "output_type": "display_data",
       "text": [
        "                         address direction      street  crossStreet\n",
        "1       S CATON AVE & BENSON AVE       N/B   Caton Ave   Benson Ave\n",
        "2       S CATON AVE & BENSON AVE       S/B   Caton Ave   Benson Ave\n",
        "3 WILKENS AVE & PINE HEIGHTS AVE       E/B Wilkens Ave Pine Heights\n",
        "4        THE ALAMEDA & E 33RD ST       S/B The Alameda      33rd St\n",
        "5        E 33RD ST & THE ALAMEDA       E/B      E 33rd  The Alameda\n",
        "6        ERDMAN AVE & N MACON ST       E/B      Erdman     Macon St\n",
        "                intersection                      Location.1\n",
        "1     Caton Ave & Benson Ave (39.2693779962, -76.6688185297)\n",
        "2     Caton Ave & Benson Ave (39.2693157898, -76.6689698176)\n",
        "3 Wilkens Ave & Pine Heights  (39.2720252302, -76.676960806)\n",
        "4     The Alameda  & 33rd St (39.3285013141, -76.5953545714)\n",
        "5      E 33rd  & The Alameda (39.3283410623, -76.5953594625)\n",
        "6         Erdman  & Macon St (39.3068045671, -76.5593167803)\n"
       ]
      }
     ],
     "prompt_number": 19
    },
    {
     "cell_type": "heading",
     "level": 3,
     "metadata": {
      "slideshow": {
       "slide_type": "slide"
      }
     },
     "source": [
      "XML documents"
     ]
    },
    {
     "cell_type": "heading",
     "level": 3,
     "metadata": {
      "slideshow": {
       "slide_type": "fragment"
      }
     },
     "source": [
      "The tree structure of an xml document"
     ]
    },
    {
     "cell_type": "markdown",
     "metadata": {
      "slideshow": {
       "slide_type": "fragment"
      }
     },
     "source": [
      "Let us create a simple XML document.\n",
      "\n",
      "Consider the following data for two students in a given class given in tabular form:"
     ]
    },
    {
     "cell_type": "code",
     "collapsed": false,
     "input": [
      "%%file course.csv\n",
      "name, midterm, final, homework, section, major\n",
      "Bob Durant, 55, 88, 99, 1, STAT\n",
      "Agnes Thomas, 99, 90, 99, 2, ECON"
     ],
     "language": "python",
     "metadata": {
      "slideshow": {
       "slide_type": "fragment"
      }
     },
     "outputs": [
      {
       "output_type": "stream",
       "stream": "stdout",
       "text": [
        "Overwriting course.csv\n"
       ]
      }
     ],
     "prompt_number": 20
    },
    {
     "cell_type": "markdown",
     "metadata": {
      "slideshow": {
       "slide_type": "fragment"
      }
     },
     "source": [
      "Let's read this data nicely into a data frame:"
     ]
    },
    {
     "cell_type": "code",
     "collapsed": false,
     "input": [
      "%%R \n",
      "df = read.csv('course.csv'); print(df)"
     ],
     "language": "python",
     "metadata": {
      "slideshow": {
       "slide_type": "fragment"
      }
     },
     "outputs": [
      {
       "metadata": {},
       "output_type": "display_data",
       "text": [
        "          name midterm final homework section major\n",
        "1   Bob Durant      55    88       99       1  STAT\n",
        "2 Agnes Thomas      99    90       99       2  ECON\n"
       ]
      }
     ],
     "prompt_number": 21
    },
    {
     "cell_type": "markdown",
     "metadata": {
      "slideshow": {
       "slide_type": "slide"
      }
     },
     "source": [
      "The same data can be stored in XML format in the following way:"
     ]
    },
    {
     "cell_type": "code",
     "collapsed": false,
     "input": [
      "%%file stat133.xml\n",
      "<?xml version=\"1.0\" encoding=\"ISO-8859-1\"?>  \n",
      "\n",
      "\n",
      "<stat133 name='Computing with Data' department='STAT'>\n",
      "        \n",
      "    <student sid='1232243'>\n",
      "        <name>Bob Durant</name>\n",
      "        <midterm>55</midterm>\n",
      "        <final>88</final>\n",
      "        <homework>99</homework>\n",
      "        <section>1</section>\n",
      "        <major>STAT</major>\n",
      "    </student>\n",
      "    \n",
      "    <student sid='3213453'>\n",
      "        <name>Agnes Thomas</name>\n",
      "        <midterm>99</midterm>\n",
      "        <final>90</final>\n",
      "        <homework>99</homework>\n",
      "        <section>2</section>\n",
      "        <major>ECON</major>\n",
      "    </student>\n",
      "    \n",
      "</stat133>"
     ],
     "language": "python",
     "metadata": {
      "slideshow": {
       "slide_type": "fragment"
      }
     },
     "outputs": [
      {
       "output_type": "stream",
       "stream": "stdout",
       "text": [
        "Overwriting stat133.xml\n"
       ]
      }
     ],
     "prompt_number": 22
    },
    {
     "cell_type": "markdown",
     "metadata": {
      "slideshow": {
       "slide_type": "slide"
      }
     },
     "source": [
      "The first line\n",
      "\n",
      "    <?xml version=\"1.0\" encoding=\"ISO-8859-1\"?> \n",
      "\n",
      "provides informations about\n",
      "\n",
      "* which **version of XML** we are structuring our data with (version 1.0)\n",
      "\n",
      "\n",
      "* which type of **character encoding** we are using (ISO-8859-1)"
     ]
    },
    {
     "cell_type": "markdown",
     "metadata": {
      "slideshow": {
       "slide_type": "slide"
      }
     },
     "source": [
      "The whole course data is surrounded by two **XML tags** \n",
      "\n",
      "    <stat133> ... </stat133>\n",
      "    \n",
      "* The **first tag** is an **opening tag** indicating the beginning of the stat 133 data:\n",
      "\n",
      "\n",
      "    <tag>\n",
      "\n",
      "\n",
      "* The **second tag** is a **closing tag** incating the end of the stat 133 data:\n",
      "\n",
      "\n",
      "    </tag>\n",
      "\n",
      "* Two such tags together with all the data in between tag forms an **xml node**:\n",
      "\n",
      "\n",
      "    <tag>...data...</tag>\n",
      "    "
     ]
    },
    {
     "cell_type": "markdown",
     "metadata": {
      "slideshow": {
       "slide_type": "slide"
      }
     },
     "source": [
      "The data in between the <code>stat133</code> node is itself a **collection of xml nodes**:\n",
      "\n",
      "    <student sid='1232243'> ... </student>\n",
      "    <student sid='3213453'> ... </student>\n",
      "    \n",
      "* These nodes are the **children nodes** of the **enclosing node** (the <code>stat133</code> node here)\n",
      "\n",
      "\n",
      "* The **enclosing node** is called the **parent node**"
     ]
    },
    {
     "cell_type": "markdown",
     "metadata": {
      "slideshow": {
       "slide_type": "slide"
      }
     },
     "source": [
      "Pictorially, one may represent the **children/parent relationship** as an **arrow:** \n",
      "\n",
      "**parent node** (stat133 node) $\\longrightarrow$ **children node** (student node)\n",
      "\n",
      "With this interpretation, **an xml document structures data in the form of a tree**, called the **xml tree**. \n",
      "\n",
      "* The **root** of the tree is the **node whose tag encloses all other nodes**\n",
      "\n",
      "\n",
      "* The **leafs** of the tree are the **nodes enclosing no other node**"
     ]
    },
    {
     "cell_type": "markdown",
     "metadata": {
      "slideshow": {
       "slide_type": "slide"
      }
     },
     "source": [
      "In our class example:\n",
      "\n",
      "* the **stat133** node is the **root**\n",
      "\n",
      "\n",
      "* the tags enclosing **actual data** about the students are the **leafs**:\n",
      "\n",
      "\n",
      "        <name>Bob Durant</name>\n",
      "        <midterm>55</midterm>\n",
      "        <final>88</final>\n",
      "        <homework>99</homework>\n",
      "        <section>1</section>\n",
      "        <major>STAT</major>\n",
      "        \n",
      "So each student node contains five leafs."
     ]
    },
    {
     "cell_type": "markdown",
     "metadata": {
      "slideshow": {
       "slide_type": "slide"
      }
     },
     "source": [
      "The **values** of an **xml node** is the collection of **all the data** contained by **all the leafs stemming from this node**."
     ]
    },
    {
     "cell_type": "markdown",
     "metadata": {
      "slideshow": {
       "slide_type": "slide"
      }
     },
     "source": [
      "**Example:** Consider the following xml code. \n",
      "\n",
      "    <A>\n",
      "        <B>value1</B>\n",
      "        <C>value2</C>\n",
      "        <D>\n",
      "            <E> \n",
      "                <G>value3</G> \n",
      "            </E>\n",
      "            <F>value4</F>\n",
      "        </D>\n",
      "    </A>"
     ]
    },
    {
     "cell_type": "markdown",
     "metadata": {
      "slideshow": {
       "slide_type": "fragment"
      }
     },
     "source": [
      "The **value** of\n",
      "\n",
      "* node A is the collection {value1, value2, value2, value4}\n",
      "\n",
      "* node B is {value1}\n",
      "\n",
      "* node D is {value3, value4}\n",
      "\n",
      "* etc."
     ]
    },
    {
     "cell_type": "markdown",
     "metadata": {
      "slideshow": {
       "slide_type": "slide"
      }
     },
     "source": [
      "Here is a tree representation of the xml code above:\n",
      "\n",
      "\n",
      "![xml tree](http://nwalsh.com/docs/articles/extreme2003/diagrams/btree.png \"Title\")"
     ]
    },
    {
     "cell_type": "markdown",
     "metadata": {
      "slideshow": {
       "slide_type": "slide"
      }
     },
     "source": [
      "An **xml node** can also have several **attributes**:\n",
      "\n",
      "    <tag attribute1=value attribue2=value etc.>...data...</tag>\n",
      "    \n",
      "The **node attributes** are specified in the **opening tag**."
     ]
    },
    {
     "cell_type": "markdown",
     "metadata": {
      "slideshow": {
       "slide_type": "fragment"
      }
     },
     "source": [
      "In our class example:\n",
      "\n",
      "    <stat133 name='Computing with Data' department='STAT'>\n",
      "        \n",
      "        <student sid='1232243'> ...data... </student>\n",
      "    \n",
      "        <student sid='3213453'> ...data... </student>\n",
      "    \n",
      "    </stat133>\n",
      "\n",
      "* the **stat133 node** has **two attribues**: <code>name</code> and <code>department</code>\n",
      "\n",
      "\n",
      "* the **student nodes** have only **one attribute**: <code>sid</code>"
     ]
    },
    {
     "cell_type": "heading",
     "level": 3,
     "metadata": {
      "slideshow": {
       "slide_type": "slide"
      }
     },
     "source": [
      "XML node summary"
     ]
    },
    {
     "cell_type": "markdown",
     "metadata": {
      "slideshow": {
       "slide_type": "fragment"
      }
     },
     "source": [
      "Each **XML node** in a **XML document** may have\n",
      "\n",
      "* several **attributes** specified in the **opening tag**\n",
      "\n",
      "\n",
      "* several **children nodes** in between the **opening tag** and the **closing tag**\n",
      "\n",
      "\n",
      "* one **parent node** enclosing it\n",
      "\n",
      "\n",
      "* a **value** given by all the data enclosed by the **leafs** steming out of it"
     ]
    },
    {
     "cell_type": "markdown",
     "metadata": {
      "slideshow": {
       "slide_type": "fragment"
      }
     },
     "source": [
      "The collection of all **XML nodes** with the **parent/children** relation ship form the **XML tree**:\n",
      "\n",
      "\n",
      "* the **XML node** enclosing all other nodes is the **root** of the **XML document**\n",
      "\n",
      "\n",
      "* the **XML nodes** enclosing no other nodes are the **leafs** of the **XML document**"
     ]
    },
    {
     "cell_type": "heading",
     "level": 3,
     "metadata": {
      "slideshow": {
       "slide_type": "slide"
      }
     },
     "source": [
      "Parsing an XML document with R"
     ]
    },
    {
     "cell_type": "markdown",
     "metadata": {
      "slideshow": {
       "slide_type": "slide"
      }
     },
     "source": [
      "In R, the **XML library** contains **functions** and **classes** to represent **XML documents**.\n",
      "\n",
      "**Libraries** in R corresponds to **modules** in Python. \n"
     ]
    },
    {
     "cell_type": "code",
     "collapsed": false,
     "input": [
      "%%R\n",
      "library(XML)"
     ],
     "language": "python",
     "metadata": {
      "slideshow": {
       "slide_type": "fragment"
      }
     },
     "outputs": [
      {
       "metadata": {},
       "output_type": "display_data",
       "text": [
        "\n",
        "Attaching package: \u2018XML\u2019\n",
        "\n",
        "The following object is masked from \u2018package:tools\u2019:\n",
        "\n",
        "    toHTML\n",
        "\n"
       ]
      }
     ],
     "prompt_number": 23
    },
    {
     "cell_type": "markdown",
     "metadata": {},
     "source": [
      "To install this r package in the oskibox, open a termina and type in\n",
      "\n",
      "    sudo apt-get install r-cran-xml\n"
     ]
    },
    {
     "cell_type": "markdown",
     "metadata": {
      "slideshow": {
       "slide_type": "fragment"
      }
     },
     "source": [
      "**Remark:** The keyword <code>library</code> in R corresponds to the <code>import</code> keyword in Python. "
     ]
    },
    {
     "cell_type": "markdown",
     "metadata": {
      "slideshow": {
       "slide_type": "slide"
      }
     },
     "source": [
      "The **XML library** provides two main classes:"
     ]
    },
    {
     "cell_type": "markdown",
     "metadata": {
      "slideshow": {
       "slide_type": "fragment"
      }
     },
     "source": [
      "A class\n",
      "\n",
      "\n",
      "    XMLDocument\n",
      "    \n",
      "representing **whole XML documents** including\n",
      "\n",
      "* The **header of the XML document**, that is, the **data** (also called **meta data**) contained in\n",
      "\n",
      "\n",
      "    <?xml version=\"1.0\" encoding=\"ISO-8859-1\"?>  \n",
      "    \n",
      "* The **body of the XML document**, i.e., the  **sequence of XML tags  representing the actual data**"
     ]
    },
    {
     "cell_type": "markdown",
     "metadata": {
      "slideshow": {
       "slide_type": "fragment"
      }
     },
     "source": [
      "A class\n",
      "\n",
      "    XMLNode\n",
      "    \n",
      "representing the **XML nodes** in the **XML tree** where the information is stored."
     ]
    },
    {
     "cell_type": "markdown",
     "metadata": {
      "slideshow": {
       "slide_type": "slide"
      }
     },
     "source": [
      "The first steps to load XML data into R is to use the functions:\n",
      "\n",
      "    xml_doc = xmlParse(file_adress)\n",
      "    root_node = xmlRoot(xml_doc)\n",
      "    \n",
      "* <code>xmlParse</code> takes as input the XML file address and returns the corresponding <code>XMLDocument</code> object\n",
      "\n",
      "\n",
      "* <code>xmlRoot</code> takes an <code>XMLDocument</code> and returns the **root node** as a <code>XMLNode</code> object."
     ]
    },
    {
     "cell_type": "code",
     "collapsed": false,
     "input": [
      "%%R\n",
      "\n",
      "xml_doc = xmlParse('stat133.xml')\n",
      "\n",
      "stat133_node = xmlRoot(xml_doc)"
     ],
     "language": "python",
     "metadata": {
      "slideshow": {
       "slide_type": "fragment"
      }
     },
     "outputs": [],
     "prompt_number": 24
    },
    {
     "cell_type": "markdown",
     "metadata": {
      "slideshow": {
       "slide_type": "slide"
      }
     },
     "source": [
      "To **navigate the XML tree** the XML library offers the following functions:\n",
      "\n",
      "    xmlAttrs(node)\n",
      "    xmlValue(node)\n",
      "    xmlChildren(node)\n",
      "    xmlParent(node)\n",
      "\n",
      "that take an <code>XMLNode</code> object and return the corresponding information.\n",
      "    "
     ]
    },
    {
     "cell_type": "code",
     "collapsed": false,
     "input": [
      "%%R\n",
      "#returns the attributes as a character vector\n",
      "stat133_attrs = xmlAttrs(stat133_node) \n",
      "print(stat133_attrs)"
     ],
     "language": "python",
     "metadata": {
      "slideshow": {
       "slide_type": "fragment"
      }
     },
     "outputs": [
      {
       "metadata": {},
       "output_type": "display_data",
       "text": [
        "                 name            department \n",
        "\"Computing with Data\"                \"STAT\" \n"
       ]
      }
     ],
     "prompt_number": 25
    },
    {
     "cell_type": "code",
     "collapsed": false,
     "input": [
      "%%R\n",
      "#return the children nodes as a list of XMLNode objects\n",
      "\n",
      "stat133_children = xmlChildren(stat133_node) # return chi\n",
      "\n",
      "student1_node = stat133_children[[1]]\n",
      "student2_node = stat133_children[[2]]\n",
      "\n",
      "#printing an XMLNode yields back the corresponding XML code\n",
      "print(student1_node)"
     ],
     "language": "python",
     "metadata": {
      "slideshow": {
       "slide_type": "fragment"
      }
     },
     "outputs": [
      {
       "metadata": {},
       "output_type": "display_data",
       "text": [
        "<student sid=\"1232243\">\n",
        "  <name>Bob Durant</name>\n",
        "  <midterm>55</midterm>\n",
        "  <final>88</final>\n",
        "  <homework>99</homework>\n",
        "  <section>1</section>\n",
        "  <major>STAT</major>\n",
        "</student> \n"
       ]
      }
     ],
     "prompt_number": 26
    },
    {
     "cell_type": "code",
     "collapsed": false,
     "input": [
      "%%R\n",
      "\n",
      "parent_node = xmlParent(student1_node)\n",
      "\n",
      "print(parent_node)"
     ],
     "language": "python",
     "metadata": {
      "slideshow": {
       "slide_type": "slide"
      }
     },
     "outputs": [
      {
       "metadata": {},
       "output_type": "display_data",
       "text": [
        "<stat133 name=\"Computing with Data\" department=\"STAT\">\n",
        "  <student sid=\"1232243\">\n",
        "    <name>Bob Durant</name>\n",
        "    <midterm>55</midterm>\n",
        "    <final>88</final>\n",
        "    <homework>99</homework>\n",
        "    <section>1</section>\n",
        "    <major>STAT</major>\n",
        "  </student>\n",
        "  <student sid=\"3213453\">\n",
        "    <name>Agnes Thomas</name>\n",
        "    <midterm>99</midterm>\n",
        "    <final>90</final>\n",
        "    <homework>99</homework>\n",
        "    <section>2</section>\n",
        "    <major>ECON</major>\n",
        "  </student>\n",
        "</stat133> \n"
       ]
      }
     ],
     "prompt_number": 27
    },
    {
     "cell_type": "code",
     "collapsed": false,
     "input": [
      "%%R\n",
      "\n",
      "for (student in xmlChildren(stat133_node))\n",
      "{\n",
      "    for(node in xmlChildren(student)) print(xmlValue(node))\n",
      "}"
     ],
     "language": "python",
     "metadata": {
      "slideshow": {
       "slide_type": "slide"
      }
     },
     "outputs": [
      {
       "metadata": {},
       "output_type": "display_data",
       "text": [
        "[1] \"Bob Durant\"\n",
        "[1] \"55\"\n",
        "[1] \"88\"\n",
        "[1] \"99\"\n",
        "[1] \"1\"\n",
        "[1] \"STAT\"\n",
        "[1] \"Agnes Thomas\"\n",
        "[1] \"99\"\n",
        "[1] \"90\"\n",
        "[1] \"99\"\n",
        "[1] \"2\"\n",
        "[1] \"ECON\"\n"
       ]
      }
     ],
     "prompt_number": 28
    },
    {
     "cell_type": "markdown",
     "metadata": {
      "slideshow": {
       "slide_type": "slide"
      }
     },
     "source": [
      "One can also **retrieve a child node by its tag name**, using the construct:\n",
      "\n",
      "\n",
      "    child_node = node[['name']]\n",
      "    \n",
      "that returns the **child node** corresponding to <code>'tag'</code>.\n"
     ]
    },
    {
     "cell_type": "code",
     "collapsed": false,
     "input": [
      "%%R\n",
      "\n",
      "name_node  = student1_node[['name']]\n",
      "name_value = xmlValue(name_node)\n",
      "\n",
      "print(name_value)"
     ],
     "language": "python",
     "metadata": {
      "slideshow": {
       "slide_type": "fragment"
      }
     },
     "outputs": [
      {
       "metadata": {},
       "output_type": "display_data",
       "text": [
        "[1] \"Bob Durant\"\n"
       ]
      }
     ],
     "prompt_number": 29
    },
    {
     "cell_type": "markdown",
     "metadata": {
      "slideshow": {
       "slide_type": "slide"
      }
     },
     "source": [
      "The **tag names** of a given **node** can be retrieved using the function\n",
      "\n",
      "    names(node)\n",
      "    \n",
      "that returns a **character vector** containing the tag names of the children nodes.\n",
      "\n",
      "**Remark:** One can do that because an object of any class in R is just an **enhanced list**. Thus we can access some of the methods of the underlying list; here the <code>name</code> method that returns the element labels of a list."
     ]
    },
    {
     "cell_type": "code",
     "collapsed": false,
     "input": [
      "%%R\n",
      "\n",
      "tag_names = names(student1_node)\n",
      "print(tag_names)"
     ],
     "language": "python",
     "metadata": {
      "slideshow": {
       "slide_type": "fragment"
      }
     },
     "outputs": [
      {
       "metadata": {},
       "output_type": "display_data",
       "text": [
        "      name    midterm      final   homework    section      major \n",
        "    \"name\"  \"midterm\"    \"final\" \"homework\"  \"section\"    \"major\" \n"
       ]
      }
     ],
     "prompt_number": 30
    },
    {
     "cell_type": "code",
     "collapsed": false,
     "input": [
      "%%R\n",
      "\n",
      "for(student in xmlChildren(stat133_node))\n",
      "{\n",
      "    for(tag_name in names(student))\n",
      "    {\n",
      "       cat(tag_name, ':', xmlValue(student[[tag_name]]), '\\n')\n",
      "    }\n",
      "    cat('\\n-----------\\n')\n",
      "}"
     ],
     "language": "python",
     "metadata": {
      "slideshow": {
       "slide_type": "fragment"
      }
     },
     "outputs": [
      {
       "metadata": {},
       "output_type": "display_data",
       "text": [
        "name : Bob Durant \n",
        "midterm : 55 \n",
        "final : 88 \n",
        "homework : 99 \n",
        "section : 1 \n",
        "major : STAT \n",
        "\n",
        "-----------\n",
        "name : Agnes Thomas \n",
        "midterm : 99 \n",
        "final : 90 \n",
        "homework : 99 \n",
        "section : 2 \n",
        "major : ECON \n",
        "\n",
        "-----------\n"
       ]
      }
     ],
     "prompt_number": 31
    },
    {
     "cell_type": "heading",
     "level": 2,
     "metadata": {
      "slideshow": {
       "slide_type": "slide"
      }
     },
     "source": [
      "A digression on lists: the double bracket operator"
     ]
    },
    {
     "cell_type": "markdown",
     "metadata": {
      "slideshow": {
       "slide_type": "fragment"
      }
     },
     "source": [
      "As we saw, the **single bracket operator**\n",
      "\n",
      "    list[range]\n",
      "allows us to retrive a **sublist** corresponding to the **range**. \n",
      "\n",
      "In case, the **range is a single index** then \n",
      "\n",
      "    list[i]\n",
      "is a **sublist with one element**, namely the **element at position i**.\n",
      "\n",
      "**CAUTION:** A **list with a single element is different that the element itself.**"
     ]
    },
    {
     "cell_type": "code",
     "collapsed": false,
     "input": [
      "%%R\n",
      "\n",
      "element1 = c('a', 'b', 'c')   #character vector\n",
      "element2 = c(1,2)             #numeric vector\n",
      "\n",
      "my_list  = list(element1, element2)\n",
      "\n",
      "x = my_list[1]"
     ],
     "language": "python",
     "metadata": {
      "slideshow": {
       "slide_type": "slide"
      }
     },
     "outputs": [],
     "prompt_number": 32
    },
    {
     "cell_type": "code",
     "collapsed": false,
     "input": [
      "%%R\n",
      "\n",
      "print(class(element1))\n",
      "print(class(x))"
     ],
     "language": "python",
     "metadata": {
      "slideshow": {
       "slide_type": "fragment"
      }
     },
     "outputs": [
      {
       "metadata": {},
       "output_type": "display_data",
       "text": [
        "[1] \"character\"\n",
        "[1] \"list\"\n"
       ]
      }
     ],
     "prompt_number": 33
    },
    {
     "cell_type": "code",
     "collapsed": false,
     "input": [
      "%%R\n",
      "\n",
      "print(x[1])"
     ],
     "language": "python",
     "metadata": {
      "slideshow": {
       "slide_type": "fragment"
      }
     },
     "outputs": [
      {
       "metadata": {},
       "output_type": "display_data",
       "text": [
        "[[1]]\n",
        "[1] \"a\" \"b\" \"c\"\n",
        "\n"
       ]
      }
     ],
     "prompt_number": 34
    },
    {
     "cell_type": "code",
     "collapsed": false,
     "input": [
      "%%R\n",
      "\n",
      "print(element1[1])"
     ],
     "language": "python",
     "metadata": {
      "slideshow": {
       "slide_type": "fragment"
      }
     },
     "outputs": [
      {
       "metadata": {},
       "output_type": "display_data",
       "text": [
        "[1] \"a\"\n"
       ]
      }
     ],
     "prompt_number": 35
    },
    {
     "cell_type": "markdown",
     "metadata": {
      "slideshow": {
       "slide_type": "slide"
      }
     },
     "source": [
      "To **retrieve** the **actual list element** at a given **position i**, one needs to use the **double bracket operator**:\n",
      "\n",
      "    list[[i]]\n",
      "    \n",
      "This also valid, when one uses **element labels** instead of **position indices**:\n",
      "\n",
      "    list[['label']] #retrieves the actual list element \n",
      "    list['label']   #yields back a list containing the list element"
     ]
    },
    {
     "cell_type": "code",
     "collapsed": false,
     "input": [
      "%%R\n",
      "\n",
      "x = list(names=c('Bob', 'Luc', 'Paul'), grades=c(45, 76,12))\n",
      "print(x)"
     ],
     "language": "python",
     "metadata": {},
     "outputs": [
      {
       "metadata": {},
       "output_type": "display_data",
       "text": [
        "$names\n",
        "[1] \"Bob\"  \"Luc\"  \"Paul\"\n",
        "\n",
        "$grades\n",
        "[1] 45 76 12\n",
        "\n"
       ]
      }
     ],
     "prompt_number": 36
    },
    {
     "cell_type": "code",
     "collapsed": false,
     "input": [
      "%%R\n",
      "print(x['names'])\n",
      "print(x[['names']])"
     ],
     "language": "python",
     "metadata": {
      "slideshow": {
       "slide_type": "fragment"
      }
     },
     "outputs": [
      {
       "metadata": {},
       "output_type": "display_data",
       "text": [
        "$names\n",
        "[1] \"Bob\"  \"Luc\"  \"Paul\"\n",
        "\n",
        "[1] \"Bob\"  \"Luc\"  \"Paul\"\n"
       ]
      }
     ],
     "prompt_number": 37
    },
    {
     "cell_type": "heading",
     "level": 2,
     "metadata": {
      "slideshow": {
       "slide_type": "slide"
      }
     },
     "source": [
      "A digression on lists: lapply and sapply"
     ]
    },
    {
     "cell_type": "markdown",
     "metadata": {
      "slideshow": {
       "slide_type": "fragment"
      }
     },
     "source": [
      "Given a **function** <code>f</code> and a **list** \n",
      "\n",
      "$$x = (x_1, x_2,\\dots,x_n)$$\n",
      "\n",
      "the **list apply** function:\n",
      "\n",
      "    lapply(x, f)\n",
      "will return the **list** \n",
      "\n",
      "$$ (f(x_1),\\dots,f(x_n)). $$\n"
     ]
    },
    {
     "cell_type": "code",
     "collapsed": false,
     "input": [
      "%%R\n",
      "\n",
      "f = function(x) return(c(mean=mean(x), sd=sd(x)))\n",
      "\n",
      "var1 = c(1,2,3,4,5,6,8,9)\n",
      "var2 = c(18,34,2)\n",
      "    \n",
      "x = list(V1=var1, V2=var2)\n",
      "\n",
      "y = lapply(x, f)\n",
      "\n",
      "print(y)"
     ],
     "language": "python",
     "metadata": {
      "slideshow": {
       "slide_type": "fragment"
      }
     },
     "outputs": [
      {
       "metadata": {},
       "output_type": "display_data",
       "text": [
        "$V1\n",
        "    mean       sd \n",
        "4.750000 2.815772 \n",
        "\n",
        "$V2\n",
        "mean   sd \n",
        "  18   16 \n",
        "\n"
       ]
      }
     ],
     "prompt_number": 38
    },
    {
     "cell_type": "markdown",
     "metadata": {
      "slideshow": {
       "slide_type": "slide"
      }
     },
     "source": [
      "Now suppose the function $f$ returns a single number from a numeric vector:"
     ]
    },
    {
     "cell_type": "code",
     "collapsed": false,
     "input": [
      "%%R\n",
      "\n",
      "f = function(x) return(mean=mean(x))\n",
      "\n",
      "y = lapply(x, f)\n",
      "\n",
      "print(y)"
     ],
     "language": "python",
     "metadata": {
      "slideshow": {
       "slide_type": "fragment"
      }
     },
     "outputs": [
      {
       "metadata": {},
       "output_type": "display_data",
       "text": [
        "$V1\n",
        "[1] 4.75\n",
        "\n",
        "$V2\n",
        "[1] 18\n",
        "\n"
       ]
      }
     ],
     "prompt_number": 39
    },
    {
     "cell_type": "markdown",
     "metadata": {
      "slideshow": {
       "slide_type": "fragment"
      }
     },
     "source": [
      "In this case, it makes sense that the **output** of **lapply** would rather be a **numeric vector** rather than a **list of numeric vectors with one element each**.\n",
      "\n",
      "For that purpose, one has the **simplify apply function**\n",
      "\n",
      "    sapply(x, f, args)\n",
      "    \n",
      "that will try to simplify the **output** into a vector of the proper type.\n",
      "\n",
      "**Remark:** The last argument <code>args</code> can be omitted, but it can also be used to pass additional parameters to the function $f$, if needed."
     ]
    },
    {
     "cell_type": "code",
     "collapsed": false,
     "input": [
      "%%R\n",
      "\n",
      "y = sapply(x, f)\n",
      "\n",
      "print(y)"
     ],
     "language": "python",
     "metadata": {
      "slideshow": {
       "slide_type": "fragment"
      }
     },
     "outputs": [
      {
       "metadata": {},
       "output_type": "display_data",
       "text": [
        "   V1    V2 \n",
        " 4.75 18.00 \n"
       ]
      }
     ],
     "prompt_number": 40
    },
    {
     "cell_type": "heading",
     "level": 2,
     "metadata": {
      "slideshow": {
       "slide_type": "slide"
      }
     },
     "source": [
      "From XML document to data frames"
     ]
    },
    {
     "cell_type": "markdown",
     "metadata": {
      "slideshow": {
       "slide_type": "slide"
      }
     },
     "source": [
      "Once data has been \n",
      "\n",
      "* downloaded into the local file system in some given format\n",
      "* uploaded onto R using the appropriate library\n",
      "\n",
      "one needs to convert the data representation into **data frames**.\n",
      "\n",
      "Namely, **data analysis methods** mostly applies to data put **data cubes** or **data frames**. "
     ]
    },
    {
     "cell_type": "markdown",
     "metadata": {
      "slideshow": {
       "slide_type": "slide"
      }
     },
     "source": [
      "Data in loaded onto R as **XML documents** are not immediately ready for analysis.\n",
      "\n",
      "To convert them into **data frame**, one may use complicated <code>for</code> loops and branching statements.\n",
      "\n",
      "A **much better way** is to use **R built-in vectorized capabilities** along with the **apply** function family.\n"
     ]
    },
    {
     "cell_type": "markdown",
     "metadata": {
      "slideshow": {
       "slide_type": "slide"
      }
     },
     "source": [
      "As an example, let's try to transform our **XML object** representation of the class data back into a data frame:"
     ]
    },
    {
     "cell_type": "code",
     "collapsed": false,
     "input": [
      "%%R\n",
      "\n",
      "print(stat133_node)"
     ],
     "language": "python",
     "metadata": {
      "slideshow": {
       "slide_type": "fragment"
      }
     },
     "outputs": [
      {
       "metadata": {},
       "output_type": "display_data",
       "text": [
        "<stat133 name=\"Computing with Data\" department=\"STAT\">\n",
        "  <student sid=\"1232243\">\n",
        "    <name>Bob Durant</name>\n",
        "    <midterm>55</midterm>\n",
        "    <final>88</final>\n",
        "    <homework>99</homework>\n",
        "    <section>1</section>\n",
        "    <major>STAT</major>\n",
        "  </student>\n",
        "  <student sid=\"3213453\">\n",
        "    <name>Agnes Thomas</name>\n",
        "    <midterm>99</midterm>\n",
        "    <final>90</final>\n",
        "    <homework>99</homework>\n",
        "    <section>2</section>\n",
        "    <major>ECON</major>\n",
        "  </student>\n",
        "</stat133> \n"
       ]
      }
     ],
     "prompt_number": 41
    },
    {
     "cell_type": "markdown",
     "metadata": {
      "slideshow": {
       "slide_type": "slide"
      }
     },
     "source": [
      "Given\n",
      "\n",
      "* a list of the **student nodes**\n",
      "* a **tag name** such as 'final'\n",
      "\n",
      "one may be able to construct a **vector** representing the the values of corresponding variable. "
     ]
    },
    {
     "cell_type": "code",
     "collapsed": false,
     "input": [
      "%%R\n",
      "\n",
      "students = xmlChildren(stat133_node)"
     ],
     "language": "python",
     "metadata": {
      "slideshow": {
       "slide_type": "fragment"
      }
     },
     "outputs": [],
     "prompt_number": 42
    },
    {
     "cell_type": "markdown",
     "metadata": {
      "slideshow": {
       "slide_type": "fragment"
      }
     },
     "source": [
      "Let us now write a function that\n",
      "\n",
      "* takes a **student node** and a **tag name** as input\n",
      "\n",
      "* returns the **tag value** for the corresponding student\n",
      "\n",
      "The idea is then to **apply** this function to the **list** of students, we have just constructed:"
     ]
    },
    {
     "cell_type": "code",
     "collapsed": false,
     "input": [
      "%%R\n",
      "\n",
      "get_value = function(node, tag) return(xmlValue(node[[tag]]))\n",
      "\n",
      "name = get_value(students[[1]], 'name')\n",
      "print(name)"
     ],
     "language": "python",
     "metadata": {
      "slideshow": {
       "slide_type": "fragment"
      }
     },
     "outputs": [
      {
       "metadata": {},
       "output_type": "display_data",
       "text": [
        "[1] \"Bob Durant\"\n"
       ]
      }
     ],
     "prompt_number": 43
    },
    {
     "cell_type": "markdown",
     "metadata": {
      "slideshow": {
       "slide_type": "fragment"
      }
     },
     "source": [
      "Using this function along with apply, we can now extract the first column or our data frame:"
     ]
    },
    {
     "cell_type": "code",
     "collapsed": false,
     "input": [
      "%%R\n",
      "\n",
      "names = sapply(students, get_value, 'name')\n",
      "print(names)"
     ],
     "language": "python",
     "metadata": {
      "slideshow": {
       "slide_type": "fragment"
      }
     },
     "outputs": [
      {
       "metadata": {},
       "output_type": "display_data",
       "text": [
        "       student        student \n",
        "  \"Bob Durant\" \"Agnes Thomas\" \n"
       ]
      }
     ],
     "prompt_number": 44
    },
    {
     "cell_type": "markdown",
     "metadata": {
      "slideshow": {
       "slide_type": "fragment"
      }
     },
     "source": [
      "We can now package this line of code into a function that takes a list of students and "
     ]
    },
    {
     "cell_type": "code",
     "collapsed": false,
     "input": [
      "%%R\n",
      "\n",
      "g = function(tag, student_nodes) return(sapply(student_nodes, get_value, tag))\n",
      "\n",
      "print(g('midterm', students))"
     ],
     "language": "python",
     "metadata": {
      "slideshow": {
       "slide_type": "fragment"
      }
     },
     "outputs": [
      {
       "metadata": {},
       "output_type": "display_data",
       "text": [
        "student student \n",
        "   \"55\"    \"99\" \n"
       ]
      }
     ],
     "prompt_number": 45
    },
    {
     "cell_type": "code",
     "collapsed": false,
     "input": [
      "%%R\n",
      "\n",
      "tag_names = names(students[[1]])\n",
      "\n",
      "data = lapply(tag_names, g, students)\n",
      "\n"
     ],
     "language": "python",
     "metadata": {
      "slideshow": {
       "slide_type": "fragment"
      }
     },
     "outputs": [],
     "prompt_number": 46
    },
    {
     "cell_type": "code",
     "collapsed": false,
     "input": [
      "%%R\n",
      "\n",
      "df = data.frame(data)\n",
      "print(df)"
     ],
     "language": "python",
     "metadata": {
      "slideshow": {
       "slide_type": "fragment"
      }
     },
     "outputs": [
      {
       "metadata": {},
       "output_type": "display_data",
       "text": [
        "          name midterm final homework section major\n",
        "1   Bob Durant      55    88       99       1  STAT\n",
        "2 Agnes Thomas      99    90       99       2  ECON\n"
       ]
      }
     ],
     "prompt_number": 47
    }
   ],
   "metadata": {}
  }
 ]
}