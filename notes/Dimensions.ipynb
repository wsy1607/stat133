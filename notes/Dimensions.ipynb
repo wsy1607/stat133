{
 "metadata": {
  "name": "",
  "signature": "sha256:c61ac236bfaa3430da29a5a025c977f57d6af0288080ff65c3290ddc487f78c2"
 },
 "nbformat": 3,
 "nbformat_minor": 0,
 "worksheets": [
  {
   "cells": [
    {
     "cell_type": "markdown",
     "metadata": {},
     "source": [
      "Data analysis attempts to solve problems by gathering relevant data and crafting statistical analysis algorithms whose output is as close as possible to the problem solution. The central challenge one faces here is twofold: \n",
      "\n",
      "1) What data should I collect?\n",
      "\n",
      "2) What data analysis should I perform?\n",
      "\n",
      "To answer these two intertwined questions, it's helpful to understand the **three natural dimensions** of a **regular data set**: Population, Variables, and Time. Most problems can be understood as an analysis of one or more of these three dimensions. "
     ]
    },
    {
     "cell_type": "markdown",
     "metadata": {
      "slideshow": {
       "slide_type": "slide"
      }
     },
     "source": [
      "In a broad sense, data analysis is a collection of methods allowing us to answer questions or solve problems in any given field using data relevant to the questions or problems. Usually, going from the data to the answer of your problem involves a process or workflow that can be described as follows:\n",
      "\n",
      "**Step 1. Problem statement:** State the problem, identify the ideal data set relevant to that problem, along with the appropriate type of analysis. \n",
      "\n",
      "\n",
      "**Step 2. Data collection:** Collect as much data as possible in order to build the best approximation of your ideal data set. The data may come from various sources and may and may be in various formats.\n",
      "\n",
      "\n",
      "**Step 3. Data preparation:** Construct the ideal data set from your collected data. This involves cleaning the data (dealing with aberrant or missing values), selecting an appropriate subset of the collected data, putting the data in a regular form (i.e., multidimensional array of values).\n",
      "\n",
      "\n",
      "**Step 4. Data analysis:** Perform the appropriate analysis on the regularized data, and see if you can answer your initial problem on the grounds of this analysis.\n",
      "\n",
      "\n",
      "**Step 5. Data visualization:** Try to convey the result of your data analysis using an expressive visualization that makes it accessible to the layperson. \n",
      "\n",
      "As stated in the first step of a data analysis, beside setting up your problem is to determine the \n",
      "\n",
      "* ideal data set\n",
      "* appropriate analysis\n",
      "\n",
      "to answer your question. To be able to do that, you need to determine the dimensions invoved in your problem. There are essentially three dimensions to a data analysis questions:\n",
      "\n",
      "* The **population dimension**: Typically, your problem involves a set of objects (individual, entities, etc.), which one calls the **population**. For instance, you may be interested finance questions, in which case your population will most probably be a collection of stocks. The population is usually denoted by $\\Omega$. \n",
      "\n",
      "* The **variable dimension**: Along with a population of object under study your problem most probably involved a collections of characteristics, called **variables** associated to each object in your population. In the case of portfolio question, these may be the closing price, the transaction volume for these stocks, the number of employees of the corresponding company, etc.   given stock,\n",
      "\n",
      "* The **temporal dimension**: At last, any observation of a characteristic or variable for a given individual has a time stamp. For most situations, one can imagine having data points taken at regular intervals in a time window. For instance, in a population of stocks, the closing price, transaction volume, and employee number can be collected on a daily basis.\n",
      "\n",
      "\n",
      "These three dimensions are faily broad and most problems can be decomposed as a problem involving one or tow of these dimensions. Questions involving the whole three dimension are of course the hardest, necessiting the full spectrum of data analysis method. \n",
      "\n",
      "A very general representation of **regular data** corresponding to a problem involving the three dimensions is a 3 dimensional cube of numbers as shown below:\n",
      "\n",
      "\n",
      "\n"
     ]
    },
    {
     "cell_type": "markdown",
     "metadata": {
      "slideshow": {
       "slide_type": "fragment"
      }
     },
     "source": [
      "The dimensions of data analyis: population, variables, and time. The data analysis process: data collection, preparation, analysis, and visualization. "
     ]
    },
    {
     "cell_type": "markdown",
     "metadata": {
      "slideshow": {
       "slide_type": "fragment"
      }
     },
     "source": [
      "####Selected parts of the coursera [Data Analysis Lecture](https://class.coursera.org/dataanalysis-002/class/index) by Jeff Leek\n",
      "\n",
      "* [The landscape of data analysis](http://prezi.com/fhumwa8tb3fs/the-landscape-of-data-analysis/)\n",
      "* [Types of Data Analysis Questions](https://class.coursera.org/dataanalysis-002/lecture/55)\n",
      "* [Sources of Data Sets](https://class.coursera.org/dataanalysis-002/lecture/57)\n",
      "    "
     ]
    },
    {
     "cell_type": "code",
     "collapsed": false,
     "input": [
      "%load_ext rmagic"
     ],
     "language": "python",
     "metadata": {
      "slideshow": {
       "slide_type": "fragment"
      }
     },
     "outputs": [],
     "prompt_number": 1
    },
    {
     "cell_type": "markdown",
     "metadata": {
      "slideshow": {
       "slide_type": "slide"
      }
     },
     "source": [
      "The **fields** concerned by the questions/problems at hand may be **very varied**: \n",
      "\n",
      "* biology\n",
      "* physics\n",
      "* chemistry\n",
      "* medecine\n",
      "* computing\n",
      "* economy\n",
      "* sociology\n",
      "* politics\n",
      "* buisness\n",
      "* law\n",
      "* urbanism\n",
      "* etc. (and even nowdays, mathematics!)"
     ]
    },
    {
     "cell_type": "markdown",
     "metadata": {
      "slideshow": {
       "slide_type": "slide"
      }
     },
     "source": [
      "A **first step** in data analyis is to **identify the right data set** that may **contain the solution** to our question/problem. \n",
      "\n",
      "For that, one needs \n",
      "\n",
      "* an **understanding of the field** that the question address (**field expertise**), so that we can gather **relevant** data,\n",
      "\n",
      "\n",
      "* an **understanding of the type of data** our question/problem requires.\n",
      "\n",
      "Statistics gives an abstract framework to identify the **type of data** or **form of the data** required by the question/problem. Field expertise and intuition is very important though, since, even though the type of data may be the right one to feed the type of analysis required by our problem, the actual data _content_ may not be relevant, or may lack important variables relevant to the problem. \n",
      "\n",
      "Field expertise (or sometimes good judgement) may help you identify the relevant **population** to study and the **relevant variables** to consider, as well as the **relevant time-scale** for the observations, as we will see below.\n",
      " \n",
      "\n",
      "In the next section, we will give concrete examples and more details on what is meant by **type of data**.\n"
     ]
    },
    {
     "cell_type": "markdown",
     "metadata": {
      "slideshow": {
       "slide_type": "fragment"
      }
     },
     "source": [
      "**Data Analysis:** Question/Problem $\\longrightarrow$ type of data needed\n",
      "\n",
      "**Field expertise:** type of data needed $\\longrightarrow$ right data set for the problem"
     ]
    },
    {
     "cell_type": "markdown",
     "metadata": {
      "slideshow": {
       "slide_type": "slide"
      }
     },
     "source": [
      "The  **second** step is to **infer** from **the question/problem** and from the **relevant data set** which **type of data analysis** needs to be performed to solve the problem."
     ]
    },
    {
     "cell_type": "markdown",
     "metadata": {
      "slideshow": {
       "slide_type": "slide"
      }
     },
     "source": [
      "Only when\n",
      "\n",
      "\n",
      "* the **question/problem** has been defined\n",
      "\n",
      "* the **ideal data set** has been determined\n",
      "\n",
      "* the **right data analysis method** has been specified\n",
      "\n",
      "the concrete data analyis process can began.\n",
      "\n",
      "\n",
      "**Identifying this three components (question/problem, ideal data set, right analysis type) will be the bulk of your class project prospectus.**\n",
      "\n",
      "\n",
      "**Remark:** Even if the question/data set/data analysis first considered may evolve some upon **exploration** of the **actual gathered data**, you should have a clear understanding of these three points, before starting the analysis.\n",
      "\n",
      "Randomly taking a data set and analysing it without concrete purpose or angle provided by a thought out question is a recipe for disaster. \n",
      "\n",
      "The **prospectus** is there to gard you from this danger. "
     ]
    },
    {
     "cell_type": "markdown",
     "metadata": {
      "slideshow": {
       "slide_type": "slide"
      }
     },
     "source": [
      "The actual **data anlysis process** goes as follows:\n",
      "\n",
      "* **data gathering:** Collect **raw data** from various source data sources containing the information necessary to build your ideal data set (or the best approximation you can)\n",
      "\n",
      "\n",
      "\n",
      "* **data exploration:** Look at all the data collected, check for **value integrity**, look for **defective/aberant values**, isolate the good data, and disgard the rest\n",
      "\n",
      "\n",
      "\n",
      "* **data cleaning:** From the **raw data** collected build the **clean data set** (as close as possible to the ideal one) on which you'll perform data anlysis\n",
      "\n",
      "\n",
      "\n",
      "* **data analysis:** Apply the right data analyisis on your clean data set to answer your question, or solve your problem\n",
      "\n",
      "\n",
      "* **result delivery:** From you analysis create a **data visualization** that answers your question if possible, or write up **an algorithm** that solves your problem.\n",
      "\n",
      "\n",
      "\n",
      "* **data report delivery**: Write a report restating clearly your question/problem, giving you data sources and analysis methods, and comments on the accuracy of your results. "
     ]
    },
    {
     "cell_type": "markdown",
     "metadata": {
      "slideshow": {
       "slide_type": "slide"
      }
     },
     "source": [
      "In the rest of this lecture, we learn how to recognize\n",
      "\n",
      "* the **ideal data set**\n",
      "* the **right analysis type**\n",
      "\n",
      "to answer your question, or solve your problem. \n",
      "\n",
      "**Doing so will also be your main goal, while writing your class project prospectus.**\n",
      "\n"
     ]
    },
    {
     "cell_type": "markdown",
     "metadata": {
      "slideshow": {
       "slide_type": "slide"
      }
     },
     "source": [
      "In the coming lectures, we will discuss in details every steps of the actual data analysis process, using R. For now, here are some videos concerning the other steps of the data anlysis process, if you can not wait:\n",
      "\n",
      "####Gathering Data:\n",
      "\n",
      "* [Getting Data (Part 1)](https://class.coursera.org/dataanalysis-002/lecture/73)\n",
      "* [Getting Data (Part 2)](https://class.coursera.org/dataanalysis-002/lecture/75)\n",
      "* [Data Ressources](https://class.coursera.org/dataanalysis-002/lecture/77)\n",
      "\n",
      "####Exploring Data:\n",
      "\n",
      "* [Summarizing Data](https://class.coursera.org/dataanalysis-002/lecture/79)\n",
      "* [Exploratory Graphs (Part 1)](https://class.coursera.org/dataanalysis-002/lecture/85)\n",
      "* [Exploratory Graphs (Part 2)](https://class.coursera.org/dataanalysis-002/lecture/87)\n",
      "\n",
      "####Cleaning Data:\n",
      "* [Data Munging Basics](https://class.coursera.org/dataanalysis-002/lecture/81)\n",
      "\n",
      "\n",
      "####Analysing Data:\n",
      "* [Hierachical Clustering](https://class.coursera.org/dataanalysis-002/lecture/91)\n",
      "* [K-Mean Clustering](https://class.coursera.org/dataanalysis-002/lecture/93)\n",
      "* [Dimension Reduction](https://class.coursera.org/dataanalysis-002/lecture/95)\n",
      "* [Clustering Example](https://class.coursera.org/dataanalysis-002/lecture/97)\n",
      "* [Basic Least Squares](https://class.coursera.org/dataanalysis-002/lecture/99)\n",
      "* [Inference Basics](https://class.coursera.org/dataanalysis-002/lecture/101)\n",
      "* [P-values](https://class.coursera.org/dataanalysis-002/lecture/105)\n",
      "* [Regression with Factor Variables](https://class.coursera.org/dataanalysis-002/lecture/107)\n",
      "* [Multiple Variable Regression](https://class.coursera.org/dataanalysis-002/lecture/103)\n",
      "* [Regression in the Real World](https://class.coursera.org/dataanalysis-002/lecture/109)"
     ]
    },
    {
     "cell_type": "heading",
     "level": 2,
     "metadata": {
      "slideshow": {
       "slide_type": "fragment"
      }
     },
     "source": [
      "The 3 dimensions of Data: Population, Variables, and Time"
     ]
    },
    {
     "cell_type": "heading",
     "level": 3,
     "metadata": {
      "slideshow": {
       "slide_type": "slide"
      }
     },
     "source": [
      "The population and the variable dimensions"
     ]
    },
    {
     "cell_type": "markdown",
     "metadata": {
      "slideshow": {
       "slide_type": "fragment"
      }
     },
     "source": [
      "So far, we saw that **statistical analysis** is based on **two main objects**:\n",
      "\n",
      "* A set $\\Omega$ representing the **population** under study\n",
      "\n",
      "\n",
      "* A subset  $F$ of functions on $\\Omega$ representing the **population characteristics** we are interested in.\n",
      "\n",
      "Depending on the field both $O$ and $F$ have different names:"
     ]
    },
    {
     "cell_type": "markdown",
     "metadata": {
      "slideshow": {
       "slide_type": "fragment"
      }
     },
     "source": [
      "**Example:** A class professor can decide to perform a data anlysis on its class students. In this case, the population under study $\\Omega$ will most probably be the set of all the students in the class. Depending on the questions the professor is asking himself about his class, different **characteristics** or **variables** may be considered."
     ]
    },
    {
     "cell_type": "markdown",
     "metadata": {
      "slideshow": {
       "slide_type": "fragment"
      }
     },
     "source": [
      "Try to find out for yourself, what variables may be relevant in order to answer the following questions:\n",
      "\n",
      "* Are the quality of the different discussion sections affecting my student performances?\n",
      "\n",
      "\n",
      "* Can the poor exam performance of certain of my student be attributed to a common weak background?\n",
      "\n",
      "\n",
      "* Can I predict the final score of a given student if I know its total homework score and its midterm score?\n",
      "\n",
      "\n",
      "* Can I identify the students that have cheated at the midterm, if any?"
     ]
    },
    {
     "cell_type": "markdown",
     "metadata": {
      "slideshow": {
       "slide_type": "fragment"
      }
     },
     "source": [
      "Now, what if the professor decides to investigate the following question:\n",
      "\n",
      "\n",
      "* Can I identify which of my students have been improving in the class, and which have been regressing?"
     ]
    },
    {
     "cell_type": "heading",
     "level": 3,
     "metadata": {
      "slideshow": {
       "slide_type": "slide"
      }
     },
     "source": [
      "The temporal dimension in data analysis"
     ]
    },
    {
     "cell_type": "markdown",
     "metadata": {
      "slideshow": {
       "slide_type": "fragment"
      }
     },
     "source": [
      "There is a **third aspect** that we didn't talk about so far: **TIME**\n",
      "\n",
      "Namely, all **processeses take place in time**:\n",
      "\n",
      "* populations **evolves**  in time (for instance: individual can die, be born, etc.)\n",
      "\n",
      "\n",
      "* their **characteristics vary** in time\n",
      "\n",
      "**Example:** \n",
      "\n",
      "* The **price of a given stock** at the stock exchange varies in time.\n",
      "\n",
      "\n",
      "\n",
      "* The **temperature at a given spot** on earth varies in time.\n",
      "\n",
      "\n",
      "\n",
      "* The score of a given student at the **weekly** quizzes and homework assignments varies from week to week."
     ]
    },
    {
     "cell_type": "markdown",
     "metadata": {
      "slideshow": {
       "slide_type": "fragment"
      }
     },
     "source": [
      "We will forget here that the set $\\Omega$ itself can change over time."
     ]
    },
    {
     "cell_type": "markdown",
     "metadata": {
      "slideshow": {
       "slide_type": "slide"
      }
     },
     "source": [
      "**Time** gives a **third dimension** to data analysis (corresdonding to the notion of <code>axis</code> in Pandas). \n",
      "\n",
      "    dimension 1 = population individuals (data frame rows)\n",
      "    dimension 2 = population variables (data frame columns)\n",
      "    dimension 3 = observation times (third dimension!)\n",
      "\n",
      "To encode time in our analysis, we can think of the **population variables as depending on time**:\n",
      "\n",
      "$$X:O\\times \\mathbb{R} \\longrightarrow A,\\quad (\\omega,\\,t)\\longrightarrow X_t(\\omega)\\in A,$$\n",
      "\n",
      "where $A$ is the set of possible values of the variable $X$, and where \n",
      "\n",
      "$X_t(\\omega)$ is the **value** of the **variable** $X$ for **individual** $\\omega$ **observed at time** $t$."
     ]
    },
    {
     "cell_type": "markdown",
     "metadata": {
      "slideshow": {
       "slide_type": "slide"
      }
     },
     "source": [
      "**Example:** Consider again the professor question that we saw above:\n",
      "\n",
      "* Can I identify which of my students have improved in class, and which have regressed?\n",
      "\n",
      "So here the **right population** to consider is again the population $\\Omega$ of all the class students. \n",
      "\n",
      "The **relevant variables** that may help us answer this question must somehow depend on time. Here are two:\n",
      "\n",
      "* The **weekly** quiz scores $Q$\n",
      "\n",
      "* The **weekly** homework scores $H$\n",
      "\n",
      "Both of these variables have a value depending on which week we are observing the quiz or homework score. \n",
      "\n",
      "We have 12 weeks in a semester, which gives us a kind of discrete time: \n",
      "\n",
      "$T =\\{1,2,3, \\dots, 12\\},$\n",
      "\n",
      "where the number $i$ denotes the $i^{th}$ week of instruction.\n",
      "\n",
      "So both variables take a time $t\\in T$ and student $\\textrm{Bob}\\in\\Omega$ and yield back two values:\n",
      "\n",
      "$$Q_t(\\textrm{Bob})\\qquad \\textrm{and}\\qquad H_t(\\textrm{Bob})$$\n",
      "\n",
      "which are respectively, the score of Bob at the quiz and homework assignment of week $t$. \n",
      "\n",
      "Answering the professor question will thus involve a kind of temporal analysis of this two variables for example.\n",
      "\n",
      "We will come back to that late. For now, just keep in mind that **your question or problem may involve a temporal aspect**, whose analysis will necessite particular methods. You need to be aware of that and to be able to recognize any temporal aspect in your clas project question or problem. This will determine the type of data you'll need to gather and the type of analysis you'll need to perform on it.\n",
      "\n",
      "\n",
      "\n",
      "\n"
     ]
    },
    {
     "cell_type": "heading",
     "level": 2,
     "metadata": {
      "slideshow": {
       "slide_type": "slide"
      }
     },
     "source": [
      "Determining the ideal data set for your problem"
     ]
    },
    {
     "cell_type": "markdown",
     "metadata": {
      "slideshow": {
       "slide_type": "fragment"
      }
     },
     "source": [
      "Suppose you have a certain question you'll wish to answer using data anlysis techniques;.\n",
      "\n",
      "Your **first order of business** is to **identify the tree dimensions that your problems involves**. \n",
      "\n",
      "You'll need to dertermine:\n",
      "\n",
      "* What is the **population** $\\Omega$ relevant to the problem?\n",
      "\n",
      "\n",
      "* What are the **population variables** $\\{X_1,\\dots, X_n\\}$ relevant to the problem?\n",
      "\n",
      "\n",
      "* What is the **time frame** $T\\subset \\mathbb{R}$ relevant to your problem?"
     ]
    },
    {
     "cell_type": "markdown",
     "metadata": {
      "slideshow": {
       "slide_type": "fragment"
      }
     },
     "source": [
      "**Example:** Suppose you are environemental scientist, and you'd like to settle the question about the earth global temperature increasing. As rough simplification, you may take your population $\\Omega$ to be all the points at the surface of the earth: i.e. all the points $(\\theta, \\gamma)$  describing a location on the earth by giving a longitude $\\theta$ and latitude $\\gamma$. The variable of interest here is the temperature $T_t(\\theta, \\gamma)$ at a given location $(\\theta, \\gamma)$ at a given time $t$. \n",
      "\n",
      "A field expert may advice us to enlarge our population by considering all the points not only on the surface of the earth, but also those in a small layer of the earth atmosphere. This expert for good reason, but unknown to us, may also suggest other variables to take into consideration. This is exactly at this point of the data analysis that field expertise is crucial. \n",
      "\n",
      "Another aspect that we must consider here is the **time-frame** relevant to our problem: Are we considering a period of 10 years, 50 year, 500 years, 500000 years? Again, the field expert will tell us, but we need to be aware that this issue must be addressed."
     ]
    },
    {
     "cell_type": "markdown",
     "metadata": {
      "slideshow": {
       "slide_type": "slide"
      }
     },
     "source": [
      "**Remark:** Your problem may or may not involve all of the three dimensions, but you need to be very clear about what dimensions are involved at the beginning of your project. Problems involving **all the 3 dimensions** will be most probably be **much more challenging** than those, where only one or two dimensions are relevant. \n",
      "\n",
      "This increased complexity has two reasons:\n",
      "\n",
      "* **Practical reason**: it's harder (if not impossible in certain cases) to collect data along all the three axes\n",
      "\n",
      "\n",
      "* **Theoretical reason**: you may need to **perform data analysis for each of the axis**: a **population analysis**, a **variable analysis**, and a **temporal analysis**.\n",
      "\n",
      "So in your **class project**, it is strongly encouraged that you **avoid questions involving all the three dimensions of Data!** It won't be managable."
     ]
    },
    {
     "cell_type": "markdown",
     "metadata": {
      "slideshow": {
       "slide_type": "slide"
      }
     },
     "source": [
      "**In practice**, we don't have access to the whole population, nor the whole time-frame, and even maybe not all the values for our ideal set of variables. We will need to content ourself probably only with\n",
      "\n",
      "* a **finite sample** $S =\\{s_1,\\dots, s_m\\} \\subset \\Omega$ of our ideal population (even if $m$ can be very large)\n",
      "\n",
      "\n",
      "* a **finite choice of variables** $F = \\{X_1,\\dots,X_n\\}$ of our ideal variable collection (which may be infinite...)\n",
      "\n",
      "\n",
      "* a  **finite number of observation times** $I = \\{t_1,\\dots, t_k\\}$"
     ]
    },
    {
     "cell_type": "markdown",
     "metadata": {
      "slideshow": {
       "slide_type": "slide"
      }
     },
     "source": [
      "The **collection of values** corresponding to \n",
      "\n",
      "* the **best possible finite sample $S$**\n",
      "\n",
      "\n",
      "* the **best possible finite variable collection $F$**\n",
      "\n",
      "\n",
      "* the **best possible finite observation times $I$**\n",
      "\n",
      "is our **IDEAL DATA SET**.\n",
      "\n",
      "Observe that the **ideal data set comes geometrically in the form of cube** with one axis for the population, one axis for the variables, and one axis for the times.\n",
      "\n",
      "We will call it the **IDEAL DATA CUBE** **associated to our initial question**."
     ]
    },
    {
     "cell_type": "markdown",
     "metadata": {
      "slideshow": {
       "slide_type": "slide"
      }
     },
     "source": [
      "As already noted, a lot of problems do not involve **the three data dimensions**. \n",
      "\n",
      "Depending on the initial question, the **ideal data set** may only correspond to **slices of the full data cube**.\n",
      "\n",
      "For instance, the relevant data to solve the intial problem may be\n",
      "\n",
      "\n",
      "* a **time series**: one idividual and one variable observed at different times (ex: single stock prices)\n",
      "\n",
      "\n",
      "* a **time frame**: several individual and one variable at different times (ex: portfolio prices)\n",
      "\n",
      "\n",
      "* a **data frame**: several individual and several variables constant in time\n",
      "\n",
      "On the other hand, **only a certain subsets or slices of the ideal data cube may also be available to you**... \n"
     ]
    },
    {
     "cell_type": "heading",
     "level": 2,
     "metadata": {
      "slideshow": {
       "slide_type": "slide"
      }
     },
     "source": [
      "Determining the right type of analysis for your problem"
     ]
    },
    {
     "cell_type": "markdown",
     "metadata": {
      "slideshow": {
       "slide_type": "fragment"
      }
     },
     "source": [
      "A **data cube** can be analysed in essentially 3 ways, corresponding to the 3 axis:\n",
      "\n",
      "* **Variable Analysis:** i.e., analysis by **columns**\n",
      "\n",
      "\n",
      "\n",
      "* **Population Analysis:** i.e., analysis by **rows**\n",
      "\n",
      "\n",
      "* **Temporal Analysis:** i.e., analysis along the **time axis**"
     ]
    },
    {
     "cell_type": "markdown",
     "metadata": {
      "slideshow": {
       "slide_type": "fragment"
      }
     },
     "source": [
      "Once the\n",
      "\n",
      "* the **problem** has been chosen,\n",
      "\n",
      "\n",
      "* the **ideal data cube** identified,\n",
      "\n",
      "it is necessary to identifiy the **right type of analysis** to solve your problem. (The form in which you want your solution, will also prescribe certain sub-types of analysis.)"
     ]
    },
    {
     "cell_type": "heading",
     "level": 2,
     "metadata": {
      "slideshow": {
       "slide_type": "slide"
      }
     },
     "source": [
      "Variable analysis"
     ]
    },
    {
     "cell_type": "markdown",
     "metadata": {
      "slideshow": {
       "slide_type": "fragment"
      }
     },
     "source": [
      ">The main problems that **Variable analysis** addresses may be split into the following three:\n",
      ">\n",
      "> * **describing** the **repartition of values** among the population\n",
      ">\n",
      ">\n",
      "> * **groupping** the variables that have a **(co)dependence relationship **\n",
      ">\n",
      ">\n",
      "> * **predicting** the value of a **target variable** from the values of the other variables"
     ]
    },
    {
     "cell_type": "markdown",
     "metadata": {
      "slideshow": {
       "slide_type": "fragment"
      }
     },
     "source": [
      "Variable analysis is a **column analysis**.\n",
      "\n",
      "These are the three main type of variable analysis _we will need for this class_. \n",
      "\n",
      "**Remark:** Be aware that there are **other types of variable analysis**. Two other very important types, **factor analysis** and **principal component analysis**, aim at **reducing** the number of variables **while retaining most of the information**; In a sense, these two anlaysis attempt at finding a smaller set of other variables on which our larger set of initial variables depends upon. You most probably won't need this type of analysis for your class project."
     ]
    },
    {
     "cell_type": "markdown",
     "metadata": {
      "slideshow": {
       "slide_type": "slide"
      }
     },
     "source": [
      "**Example1 (Prediction):** Suppose you are real-estate-agent, who buys and sells houses in the Bay Area. One important aspect of your buisness is then to determine the best prices at which you will be able to sell the house in your house pool. So here is your problem: \n",
      "\n",
      "At what price should I put this particular house back on the market right now?\n",
      "\n",
      "For this particular data analyis problem:\n",
      "\n",
      "* the **ideal population** $\\Omega$ would be the set of **all houses in the Bay Area**\n",
      "\n",
      "* the **ideal variable collection** would be **all the possible house characteristics** (location, number of rooms, date of construction, current state, size, number of floor, buying price, and what not...)\n",
      "\n",
      "* the **ideal time frame** can be taken as now, which means that you may disregard the temporal dimension for this problem althougehter (it is a simplification of course, since housing prices evolve in time...)\n",
      "\n",
      "Realistically, you'll need to settle down for the houses you can get information on (for instance, by collecting data from the website [trulia](http://www.trulia.com/).\n",
      "As for the variables, a good simple first start would be to consider two variables:\n",
      "\n",
      "* the variable $X$ giving you the **house size** in feet\n",
      "\n",
      "* the variable $Y$ giving you the **house price** in thousands of dollars\n",
      "\n",
      "So the data cube you need to construct for this problem is a **data frame** (no time dimension), and the analysis required by your problem is a **variable analysis** (along the column axis). You want to **predict** the value of the variable $Y$ (called the **target**) frome the values of the variable $X$. \n",
      "\n"
     ]
    },
    {
     "cell_type": "markdown",
     "metadata": {
      "slideshow": {
       "slide_type": "slide"
      }
     },
     "source": [
      "**Example 2 (Correlation):** Suppose your are a professor, and you'd like to know if the homework sets you gave to your students helped them do well in the final exam. Even better, you'd like to know, if at all possible, which homework sets were the most effective. \n",
      "\n",
      "Here the **population** $\\Omega$ is again the class students, while the **variables** may be taken to be each of the homework scores, say $H_1$ to $H_{14}$, along with the final score $F$.\n",
      "Again, the data cube for this problem is actually a **data frame** with rows corresponding to the students, and columns corresponding to the variables above. \n",
      "\n",
      "The question here involves again a **variable** or **column** analysis, but it is not a **prediction** problem in this case, but a **correlation** problem. You want to understand correlation between the homework scores and final scores. \n",
      "\n",
      "Beware that this type of **causal of analyis** between variables should be taken with much caution, since **causality relations** of the type \"a good grade for homework 8 **causes** a good grade for the final exam are very **hard to determine for sure**. "
     ]
    },
    {
     "cell_type": "markdown",
     "metadata": {
      "slideshow": {
       "slide_type": "slide"
      }
     },
     "source": [
      "**Example 3 (Description):** Our class professor has just given an exam to his students, and would like to know if the exam was too easy, too hard, or just right. Here we again have $\\Omega$ to be the class students, and we have a single variable $X$, the exam score. So our data cube is in fact a **data line**. \n",
      "\n",
      "Solving this problems amounts to compute the distribution of grades among the student, and interpret it. \n",
      "\n",
      "Observe that this analysis involves a **implicit assumption** about the **probability distribution of grades**: If our class is a typical class, one may assume that the student skills are distributed in a **normal way** with a lot of average students, a fewer number of weak students, and a fewer number of very talented students: the underlying assumption is that talent is shared according to a **normal distribution** among a typical class of students. \n",
      "\n",
      "From this assumption, the professor will be able to interpret the exam by observing deviations from this normal distribution pattern. Again, here many things may be going on, and conclusions must be drawn with care."
     ]
    },
    {
     "cell_type": "heading",
     "level": 2,
     "metadata": {
      "slideshow": {
       "slide_type": "slide"
      }
     },
     "source": [
      "Population Analysis"
     ]
    },
    {
     "cell_type": "markdown",
     "metadata": {
      "slideshow": {
       "slide_type": "fragment"
      }
     },
     "source": [
      ">**Population analysis** seeks to identify \n",
      ">\n",
      "> * **identify** natural **groups** or **clusters** in a population\n",
      ">\n",
      "> \n",
      "> * **explain** these clusters in terms of **extra (or hidden) variables**\n",
      ">\n",
      ">\n",
      "> * **detect anomalies**, **defects**, or **outliers** in the population\n",
      ">\n"
     ]
    },
    {
     "cell_type": "markdown",
     "metadata": {
      "slideshow": {
       "slide_type": "fragment"
      }
     },
     "source": [
      "Population analysis is a **row analysis**. "
     ]
    },
    {
     "cell_type": "markdown",
     "metadata": {
      "slideshow": {
       "slide_type": "fragment"
      }
     },
     "source": [
      "**Example 1: (Clustering)** Suppose a class professor wants to identify different groups among its students, according to their learning style (for instance: hard-working students having difficulties with the class material, a group lazy but talented students, a group of perfectly balenced students for instance). \n",
      "\n",
      "For this purpose, the professor decides to have weekly challenging quizzes requiring no preparation at all, straightforward but voluminous weekly homework assignements, and a fair but comprehensive final exam.\n",
      "\n",
      "So here the population $\\Omega$ is the class students, the set of variables is the total quiz grade $Q$, the total homework grade $H$, and the final grade $F$. Suppose that the variable value ranges are all between 0 and 10.\n",
      "\n",
      "The question involves a **population analysis**, namely clustering students into different groups, and interpreting these groups, if at all possible, as reflecting different learning styles. \n",
      "\n",
      "So for each student $\\omega\\in \\Omega$, one can associate a point \n",
      "\n",
      "$$x_\\omega = \\big(Q(\\omega), H(\\omega), F(\\omega)\\big)\\in \\mathbb{R}^3$$\n",
      "\n",
      "Now the whole class can be represented as a **cloud of points** of such points lying in a three dimensional cube.\n",
      "\n",
      "We can now look for groups of points that are close to each other, forming independent **clusters**. \n",
      "\n",
      "For instance, we may inteprete a cluster of points accumulating around the the cube vertex $(0, 10, 0)$ as being the hard-working students having difficulty with the material, or a cluster of points accumulating around the cube vertex $(10, 0, 0)$ as corresponding to a cluster of student with talent, but not involved in the class. \n",
      "\n",
      "It may also be that not cluster at all appear and that all the points accumulate around the cube center $(5, 5, 5)$ indicating a normal distribution centered at score $5$ of talent, work, and class performance.\n",
      "\n",
      "Although cluster may be present in the data, their interpretation should also taken with appropriate care.\n",
      "\n"
     ]
    },
    {
     "cell_type": "markdown",
     "metadata": {
      "slideshow": {
       "slide_type": "fragment"
      }
     },
     "source": [
      "**Example 2 (Anomaly Detection):** Suppose a class professor wants to detect who may have cheated at a given exam. The grading for this exam was negative, and points were removed as new mistakes were appearing during the grading. \n",
      "\n",
      "Again, the popluation $\\Omega$ for this problem consists the class students. Now a relevant set of variables for the problem would be the a list of categorical variables with to values corresponding to each of the mistakes encountered in the exam. \n",
      "\n",
      "For instance, the variable $X_i$ would corresponding to mistake number $i$ and $X_i(\\omega)$ would have value 0 if the student $\\omega$ didn't commit this mistake and value 1 otherwise. \n",
      "\n",
      "For each student, one obtain a vector of mistakes:\n",
      "\n",
      "$$x_\\omega = (X_1(\\omega),\\dots,X_n(\\omega))$$ \n",
      "\n",
      "where $n$ is the total number of mistakes for the exam. \n",
      "\n",
      "The problem is a **population analysis** problem where one needs to detect in our student population the individuals having abnormally close mistake vectors, indication potential cheating cases. To be sure, one then need to look at the actual exam copies, and sit placement to confirm the indication. \n",
      "\n"
     ]
    },
    {
     "cell_type": "heading",
     "level": 2,
     "metadata": {
      "slideshow": {
       "slide_type": "slide"
      }
     },
     "source": [
      "Time Analysis"
     ]
    },
    {
     "cell_type": "markdown",
     "metadata": {
      "slideshow": {
       "slide_type": "fragment"
      }
     },
     "source": [
      ">**Time analysis** seeks to \n",
      ">\n",
      "> * **describe trends** updownward or downard in a series of time observations  \n",
      ">\n",
      "> \n",
      "> * **identify recuring patterns** such as **cycles** or **constant dependence to past**\n",
      ">\n",
      ">\n",
      "> * **predict** **future** observation values from **past** ones\n",
      ">\n"
     ]
    },
    {
     "cell_type": "markdown",
     "metadata": {
      "slideshow": {
       "slide_type": "fragment"
      }
     },
     "source": [
      "Time analysis is an analysis of values along the time dimension. "
     ]
    },
    {
     "cell_type": "markdown",
     "metadata": {
      "slideshow": {
       "slide_type": "slide"
      }
     },
     "source": [
      "**Example 1 (Dependence and Prediction):** The price of a given stock at the stock exchange is a very difficult thing to model or to predict. If one considers only the time series of prices for a given stock at the stock exchange as our unique source of information, a first subproblem is to identify whether past prices will influence future prices, and if so, how many price observations should we take into account to try to predict tomorrow price?\n",
      "\n",
      "Intuitively, it seems clear that the price of a stock tomorow will be relatively weakly influenced by the stock prices 50 years ago. But what about last year, or last month? Should we only take into account the prices of the past week?\n",
      "\n",
      "Here the problem is clearly a **time analysis** problem. The population is formed by a single individual, the stock we are looking at, and there is only one variable, the stock price. So our data cube is actually a **time series**. \n",
      "\n",
      "The problem here to determine the level of correlation (or **auto-correlation**) of the price at a given date, and the prices at past dates. \n",
      "\n",
      "Of course, this is a very rough analysis, and should be taken with extreme care since the **time scale** we are taking may also change also in time... according to other variables still to be determined.\n",
      "\n",
      "A related problem is then, once time scale has been determined for our price prediction (i.e. how far in the past are we going to collect prices for our analysis), we may ask ourselve the problem of predicting tomorrow stock price. \n",
      "\n",
      "A very simple approach (and probably very inefficient) would be to use the same type of **regression techniques** we talked about in variable analysis to predict the value of a given variable, the target, given the values of other variables (here the past prices)."
     ]
    },
    {
     "cell_type": "markdown",
     "metadata": {
      "slideshow": {
       "slide_type": "slide"
      }
     },
     "source": [
      "**Example 2 (Trend Description):** Consider again the professor question that we saw above:\n",
      "\n",
      "* Can I identify which of my students have improved in class, and which have regressed?\n",
      "\n",
      "So here the **right population** to consider is again the population $\\Omega$ of all the class students. \n",
      "\n",
      "The **relevant variables** that may help us answer this question must somehow depend on time. Here are two:\n",
      "\n",
      "* The **weekly** quiz scores $Q$\n",
      "\n",
      "* The **weekly** homework scores $H$\n",
      "\n",
      "Both of these variables have a value depending on which week we are observing the quiz or homework score. \n",
      "\n",
      "We have 12 weeks in a semester, which gives us a kind of discrete time: \n",
      "\n",
      "$T =\\{1,2,3, \\dots, 12\\},$\n",
      "\n",
      "where the number $i$ denotes the $i^{th}$ week of instruction.\n",
      "\n",
      "So both variables take a time $t\\in T$ and student $\\textrm{Bob}\\in\\Omega$ and yield back two values:\n",
      "\n",
      "$$Q_t(\\textrm{Bob})\\qquad \\textrm{and}\\qquad H_t(\\textrm{Bob})$$\n",
      "\n",
      "which are respectively, the score of Bob at the quiz and homework assignment of week $t$. \n",
      "\n",
      "Answering the professor question will thus involve a **temporal analysis** of this two variables and identify **upward** or **downward trends** for any given students.\n",
      "\n",
      "We will come back to that late. For now, just keep in mind that **your question or problem may involve a temporal aspect**, whose analysis will necessite particular methods. \n",
      "\n",
      "You need to be aware of that and to be able to recognize any temporal aspect in your clas project question or problem. This will determine the type of data you'll need to gather and the type of analysis you'll need to perform on it.\n"
     ]
    },
    {
     "cell_type": "heading",
     "level": 2,
     "metadata": {
      "slideshow": {
       "slide_type": "slide"
      }
     },
     "source": [
      "Further data analysis ressources"
     ]
    },
    {
     "cell_type": "markdown",
     "metadata": {
      "slideshow": {
       "slide_type": "fragment"
      }
     },
     "source": [
      "### Data Analysis with Python\n",
      "\n",
      "* [Python for Data Analysis](http://proquest.safaribooksonline.com/book/programming/python/9781449323592), by Wes McKinney, Springer (2012)\n",
      "* [Wes McKinney's Blog](http://blog.wesmckinney.com/)\n",
      "* [Gitup page with iPython notebooks on data analysis (and more)](https://github.com/ipython/ipython/wiki/A-gallery-of-interesting-IPython-Notebooks)\n",
      "\n",
      "* [Mining the social web](http://nbviewer.ipython.org/urls/raw.github.com/ptwobrussell/Mining-the-Social-Web-2nd-Edition/master/ipynb/Chapter%204%20-%20Mining%20Google+.ipynb)\n",
      "\n",
      "###Data Analysis with R\n",
      "\n",
      "* [Pro Data Visualization using R and JavaScript](http://link.springer.com/book/10.1007/978-1-4302-5807-0/page/1)\n",
      "\n",
      "* [Using R for Data Analysis and Graphics](http://cran.r-project.org/doc/contrib/usingR.pdf) by J. H. Maindonald\n",
      "\n",
      "* [The R Project for Statistical Computing](http://www.r-project.org/)\n",
      "\n",
      "* [Python Computing for Data Science](http://profjsb.github.io/python-seminar/)\n",
      "\n",
      "* [Berkeley Python Bootcamp 2013](http://www.pythonbootcamp.info/schedule)\n",
      "\n",
      "* [Berkeley Python Bootcamp 2012](https://sites.google.com/site/pythonbootcamp2012b/agenda)\n",
      "\n",
      "* [Statistical Computing with Python](http://www.astro.cornell.edu/staff/loredo/statpy/)\n",
      "\n",
      "###Coursera Data Science lectures\n",
      "\n",
      "\n",
      "####Directly related to the class\n",
      "\n",
      "* [Data Analysis (R)](https://class.coursera.org/dataanalysis-002/class)\n",
      "\n",
      "* [Computing for Data Analyis (R)](https://class.coursera.org/compdata-003/class)\n",
      "\n",
      "* [Statistics: Making Sense of Data (R)](https://class.coursera.org/introstats-001/class/index)\n",
      "\n",
      "\n",
      "\n",
      "####To further explore if you have liked and finished all of the above...\n",
      "* [Social and Economic Networks: Models and Analysis](https://class.coursera.org/networksonline-001/class)\n",
      "\n",
      "* [Big Data in Education](https://class.coursera.org/bigdata-edu-001/class)\n",
      "\n",
      "* [Web Intelligence and Big Data (Python)](https://class.coursera.org/bigdata-003/wiki/view?page=ProgrammingAssignmentsHW3)\n",
      "\n",
      "* [Machine Learning (Octave)](https://class.coursera.org/ml-003/class)\n",
      "\n",
      "* [Probabilistic Graphical Models (Octave)](https://class.coursera.org/pgm-003/class)\n",
      "\n",
      "\n",
      "####Further upcoming coursera lectures you may want to enroll in (and get a certificate) [here](https://www.coursera.org/courses?orderby=upcoming&lngs=en&cats=stats)\n",
      "\n"
     ]
    }
   ],
   "metadata": {}
  }
 ]
}