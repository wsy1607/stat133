{
 "metadata": {
  "name": "",
  "signature": "sha256:cc472e87ad3f835635ee8f6c79515bab6bb68fa7b76ebac35c0e872c1c6bf2cc"
 },
 "nbformat": 3,
 "nbformat_minor": 0,
 "worksheets": [
  {
   "cells": [
    {
     "cell_type": "markdown",
     "metadata": {},
     "source": [
      "The last dimension of the data analysis problem is the **time dimension**. Namely, values collected on a population for a collection of relevant variables have a natural time stamp: the time and date of collection. \n",
      "\n",
      "In certain cases, the time of collection is neither known nor relevant to the problem at hand (for instance, the variables may be taken to be constant in time). On the other hand, a great deal of problems are concerned with the evolution of the variables in time, such price evolutions in financial problems.\n",
      "\n",
      "As for population and variable analysis, the general idea is roughly the same: grouping instants of time together. For instance, one would like to detect **cycles** (i.e., grouping together regularly spaced instants of time for which a variable takes the same value) or **changes in trends** (i.e., turning points, such as when we see a tendency to increase followed by a tendency to decrease). \n",
      "\n",
      "In the process of finding these cycles, trends, and inflexion points, one needs to filter out random and meaningless variations in the evolution; i.e., **random noise**. What remains after filtering out the noise is often called the **signal**. "
     ]
    },
    {
     "cell_type": "code",
     "collapsed": false,
     "input": [],
     "language": "python",
     "metadata": {},
     "outputs": []
    }
   ],
   "metadata": {}
  }
 ]
}