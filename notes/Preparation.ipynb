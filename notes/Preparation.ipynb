{
 "metadata": {
  "name": "",
  "signature": "sha256:ad2e229ebd4fd31c7b09d27ddaeecaacc8b0ca721bd0ebf08cdc9075b02a3507"
 },
 "nbformat": 3,
 "nbformat_minor": 0,
 "worksheets": [
  {
   "cells": [
    {
     "cell_type": "markdown",
     "metadata": {
      "slideshow": {
       "slide_type": "fragment"
      }
     },
     "source": [
      "Once collected and saved into your local file system, the raw but regular data will need to be unified into an appropriate collection of numerical arrays for further analysis. \n",
      "\n",
      "This is the second stage of the data analysis process. It involves operations on arrays such as **merging**, **transforming**, and **aggregating** the data, as well as the **detection and treatment of abnormal or missing values** that could cause errors or hinder algorithm performance. "
     ]
    },
    {
     "cell_type": "heading",
     "level": 1,
     "metadata": {
      "slideshow": {
       "slide_type": "slide"
      }
     },
     "source": [
      "Data cleaning"
     ]
    },
    {
     "cell_type": "markdown",
     "metadata": {
      "slideshow": {
       "slide_type": "fragment"
      }
     },
     "source": [
      "\n",
      "\n",
      "\n",
      "raw data gathered from multiple sources $\\longrightarrow$ clean data tables ready for analysis\n",
      "\n"
     ]
    },
    {
     "cell_type": "markdown",
     "metadata": {
      "slideshow": {
       "slide_type": "fragment"
      }
     },
     "source": [
      "This involves:"
     ]
    },
    {
     "cell_type": "markdown",
     "metadata": {
      "slideshow": {
       "slide_type": "fragment"
      }
     },
     "source": [
      "* removing bad rows (observations): duplicates, or too many missing or abnormal values"
     ]
    },
    {
     "cell_type": "markdown",
     "metadata": {
      "slideshow": {
       "slide_type": "fragment"
      }
     },
     "source": [
      "* removing bad columns (variables): redundant variables, too many missing or abnormal values"
     ]
    },
    {
     "cell_type": "markdown",
     "metadata": {
      "slideshow": {
       "slide_type": "fragment"
      }
     },
     "source": [
      "* massaging column values (variables): correct type, correct scale, correct values"
     ]
    },
    {
     "cell_type": "markdown",
     "metadata": {
      "slideshow": {
       "slide_type": "slide"
      }
     },
     "source": [
      "The end goal is to prepare\n",
      "\n",
      "* the **right set of data tables**\n",
      "* with **only clean and relevant variables**\n",
      "* with **only clean and relevant observations**\n",
      "\n",
      "ready for analysis."
     ]
    },
    {
     "cell_type": "heading",
     "level": 1,
     "metadata": {
      "slideshow": {
       "slide_type": "slide"
      }
     },
     "source": [
      "Setting the right variable types "
     ]
    },
    {
     "cell_type": "markdown",
     "metadata": {
      "slideshow": {
       "slide_type": "fragment"
      }
     },
     "source": [
      "Consider the following data on the most popular movies of all times:"
     ]
    },
    {
     "cell_type": "code",
     "collapsed": false,
     "input": [
      "url = 'http://www.stat.berkeley.edu/classes/s133/data/movies.txt'\n",
      "\n",
      "!curl $url 2>/dev/null | head -4"
     ],
     "language": "python",
     "metadata": {
      "slideshow": {
       "slide_type": "fragment"
      }
     },
     "outputs": [
      {
       "output_type": "stream",
       "stream": "stdout",
       "text": [
        "rank|name|box|date\r\n",
        "1|Avatar|$759.563|December 18, 2009\r\n",
        "2|Titanic|$600.788|December 19, 1997\r\n",
        "3|The Dark Knight|$533.184|July 18, 2008\r\n"
       ]
      }
     ],
     "prompt_number": 1
    },
    {
     "cell_type": "code",
     "collapsed": false,
     "input": [
      "%load_ext rmagic"
     ],
     "language": "python",
     "metadata": {
      "slideshow": {
       "slide_type": "fragment"
      }
     },
     "outputs": [],
     "prompt_number": 2
    },
    {
     "cell_type": "markdown",
     "metadata": {
      "slideshow": {
       "slide_type": "fragment"
      }
     },
     "source": [
      "The data **tabular** with separator '|', we can directly load it into a data frame without any preprocessing:"
     ]
    },
    {
     "cell_type": "code",
     "collapsed": false,
     "input": [
      "%%R -i url\n",
      "\n",
      "df = read.delim(url, sep='|', header=T)\n",
      "head(df)"
     ],
     "language": "python",
     "metadata": {
      "slideshow": {
       "slide_type": "slide"
      }
     },
     "outputs": [
      {
       "metadata": {},
       "output_type": "display_data",
       "text": [
        "  rank                               name      box              date\n",
        "1    1                             Avatar $759.563 December 18, 2009\n",
        "2    2                            Titanic $600.788 December 19, 1997\n",
        "3    3                    The Dark Knight $533.184     July 18, 2008\n",
        "4    4 Star Wars: Episode IV - A New Hope $460.998      May 25, 1977\n",
        "5    5                            Shrek 2 $437.212      May 19, 2004\n",
        "6    6         E.T. the Extra-Terrestrial $434.975     June 11, 1982\n"
       ]
      }
     ],
     "prompt_number": 3
    },
    {
     "cell_type": "markdown",
     "metadata": {
      "slideshow": {
       "slide_type": "fragment"
      }
     },
     "source": [
      "Looking at the box and date variables, we see a potential mismatch in types:\n",
      "\n",
      "* the **dollar sign** in the box column seems to indicate that the box column is represented by a **character vector** instead of a **numeric vector**\n",
      "\n",
      "\n",
      "* the date column may also be represented by a **character vector** instead of a vector containing **date objects**"
     ]
    },
    {
     "cell_type": "markdown",
     "metadata": {
      "slideshow": {
       "slide_type": "slide"
      }
     },
     "source": [
      "Let us check the variable types of this data frame.\n",
      "\n",
      "A **data frame** is a **class**. Since **classes in R are just enhanced lists** (containing the vectors representing our variables, or columns), we can use the **list apply** function on our data frame <code>df</code> in the following way:\n",
      "\n",
      "    lapply(df, class)\n",
      "which will return a list containing the classes of our data frame columns.\n",
      "\n",
      "For a better ouput, we will futher construct a data frame out of the return value of <code>lapply</code>:"
     ]
    },
    {
     "cell_type": "heading",
     "level": 1,
     "metadata": {
      "slideshow": {
       "slide_type": "slide"
      }
     },
     "source": [
      "Categorical variables: The <code>factor</code> class"
     ]
    },
    {
     "cell_type": "code",
     "collapsed": false,
     "input": [
      "%%R\n",
      "\n",
      "modes = data.frame(lapply(df, class))\n",
      "modes"
     ],
     "language": "python",
     "metadata": {
      "slideshow": {
       "slide_type": "fragment"
      }
     },
     "outputs": [
      {
       "metadata": {},
       "output_type": "display_data",
       "text": [
        "     rank   name    box   date\n",
        "1 integer factor factor factor\n"
       ]
      }
     ],
     "prompt_number": 4
    },
    {
     "cell_type": "markdown",
     "metadata": {
      "slideshow": {
       "slide_type": "fragment"
      }
     },
     "source": [
      "We see here the [class factor](http://www.stat.berkeley.edu/classes/s133/factors.html), which is used by R to store **categorical variables**.\n",
      "\n",
      "Factors are constructed out of regular vectors using the **class constructor**:"
     ]
    },
    {
     "cell_type": "code",
     "collapsed": false,
     "input": [
      "%%R\n",
      "\n",
      "sex = factor(c('M','F', 'F', 'F', 'M'))"
     ],
     "language": "python",
     "metadata": {
      "slideshow": {
       "slide_type": "fragment"
      }
     },
     "outputs": [],
     "prompt_number": 5
    },
    {
     "cell_type": "markdown",
     "metadata": {
      "slideshow": {
       "slide_type": "fragment"
      }
     },
     "source": [
      "A <code>factor</code> object stores\n",
      "\n",
      "* the **category values** as **vector of integers**\n",
      "\n",
      "\n",
      "* the **category names** as a **character vector** accessible though the function\n",
      "\n",
      "    levels(x)"
     ]
    },
    {
     "cell_type": "code",
     "collapsed": false,
     "input": [
      "%%R\n",
      "\n",
      "levels(sex)"
     ],
     "language": "python",
     "metadata": {
      "slideshow": {
       "slide_type": "fragment"
      }
     },
     "outputs": [
      {
       "metadata": {},
       "output_type": "display_data",
       "text": [
        "[1] \"F\" \"M\"\n"
       ]
      }
     ],
     "prompt_number": 6
    },
    {
     "cell_type": "markdown",
     "metadata": {
      "slideshow": {
       "slide_type": "slide"
      }
     },
     "source": [
      "        \n",
      "The <code>print</code> function displays the **category values as strings**."
     ]
    },
    {
     "cell_type": "code",
     "collapsed": false,
     "input": [
      "%%R\n",
      "\n",
      "sex"
     ],
     "language": "python",
     "metadata": {
      "slideshow": {
       "slide_type": "fragment"
      }
     },
     "outputs": [
      {
       "metadata": {},
       "output_type": "display_data",
       "text": [
        "[1] M F F F M\n",
        "Levels: F M\n"
       ]
      }
     ],
     "prompt_number": 7
    },
    {
     "cell_type": "markdown",
     "metadata": {
      "slideshow": {
       "slide_type": "slide"
      }
     },
     "source": [
      "The <code>cat</code> function displays the **category values as integers**."
     ]
    },
    {
     "cell_type": "code",
     "collapsed": false,
     "input": [
      "%%R\n",
      "\n",
      "cat(sex)"
     ],
     "language": "python",
     "metadata": {
      "slideshow": {
       "slide_type": "fragment"
      }
     },
     "outputs": [
      {
       "metadata": {},
       "output_type": "display_data",
       "text": [
        "2 1 1 1 2"
       ]
      }
     ],
     "prompt_number": 8
    },
    {
     "cell_type": "markdown",
     "metadata": {
      "slideshow": {
       "slide_type": "slide"
      }
     },
     "source": [
      "By default, the family of read functions **interprets character columns as factors**. \n",
      "\n",
      "To prevent that, one needs to set the argument <code>stringsAsFactors</code> to <code>FALSE</code>:"
     ]
    },
    {
     "cell_type": "code",
     "collapsed": false,
     "input": [
      "%%R\n",
      "\n",
      "df    = read.delim(url, sep='|', header=T, stringsAsFactors=F)\n",
      "head(df)\n"
     ],
     "language": "python",
     "metadata": {
      "slideshow": {
       "slide_type": "fragment"
      }
     },
     "outputs": [
      {
       "metadata": {},
       "output_type": "display_data",
       "text": [
        "  rank                               name      box              date\n",
        "1    1                             Avatar $759.563 December 18, 2009\n",
        "2    2                            Titanic $600.788 December 19, 1997\n",
        "3    3                    The Dark Knight $533.184     July 18, 2008\n",
        "4    4 Star Wars: Episode IV - A New Hope $460.998      May 25, 1977\n",
        "5    5                            Shrek 2 $437.212      May 19, 2004\n",
        "6    6         E.T. the Extra-Terrestrial $434.975     June 11, 1982\n"
       ]
      }
     ],
     "prompt_number": 9
    },
    {
     "cell_type": "markdown",
     "metadata": {
      "slideshow": {
       "slide_type": "fragment"
      }
     },
     "source": [
      "Now, character columns are interpreted as character vectors, but the types of the \"box\" column and the \"date\" column are still wrong:"
     ]
    },
    {
     "cell_type": "code",
     "collapsed": false,
     "input": [
      "%%R\n",
      "modes = data.frame(lapply(df, class))\n",
      "\n",
      "print(modes); cat('\\n\\n'); head(df)"
     ],
     "language": "python",
     "metadata": {
      "slideshow": {
       "slide_type": "fragment"
      }
     },
     "outputs": [
      {
       "metadata": {},
       "output_type": "display_data",
       "text": [
        "     rank      name       box      date\n",
        "1 integer character character character\n",
        "\n",
        "\n",
        "  rank                               name      box              date\n",
        "1    1                             Avatar $759.563 December 18, 2009\n",
        "2    2                            Titanic $600.788 December 19, 1997\n",
        "3    3                    The Dark Knight $533.184     July 18, 2008\n",
        "4    4 Star Wars: Episode IV - A New Hope $460.998      May 25, 1977\n",
        "5    5                            Shrek 2 $437.212      May 19, 2004\n",
        "6    6         E.T. the Extra-Terrestrial $434.975     June 11, 1982\n"
       ]
      }
     ],
     "prompt_number": 10
    },
    {
     "cell_type": "heading",
     "level": 1,
     "metadata": {
      "slideshow": {
       "slide_type": "slide"
      }
     },
     "source": [
      "Time variables: The <code>date</code> class"
     ]
    },
    {
     "cell_type": "markdown",
     "metadata": {
      "slideshow": {
       "slide_type": "fragment"
      }
     },
     "source": [
      "R has [date class](http://www.stat.berkeley.edu/classes/s133/R-5a.html) used to represent **temporal data**. \n",
      "\n",
      "One can create a date out of a _date string_ in using the function: \n",
      "\n",
      "    as.Date(date_string, pattern)\n",
      "    \n",
      "where `pattern` is a string indicating how the date in `date_string` is formatted using the _date place holders_:\n",
      "\n",
      "    %d (day number)\n",
      "    %m (month in decimal)\n",
      "    %B (month in letter)\n",
      "    %b (in abreviated)\n",
      "    %y (year: two digits)\n",
      "    %Y (year: four digits)\n",
      "\n",
      "This function returns a `Date` object, on which we can perform numerical operations:"
     ]
    },
    {
     "cell_type": "code",
     "collapsed": false,
     "input": [
      "%%R\n",
      "\n",
      "a = as.Date('December 18, 2009', '%B %d, %Y')\n",
      "b = as.Date('January 29, 2013', '%B %d, %Y')\n",
      "\n",
      "b - a"
     ],
     "language": "python",
     "metadata": {
      "slideshow": {
       "slide_type": "fragment"
      }
     },
     "outputs": [
      {
       "metadata": {},
       "output_type": "display_data",
       "text": [
        "Time difference of 1138 days\n"
       ]
      }
     ],
     "prompt_number": 14
    },
    {
     "cell_type": "markdown",
     "metadata": {
      "slideshow": {
       "slide_type": "slide"
      }
     },
     "source": [
      "We can now correct the type in our date column:"
     ]
    },
    {
     "cell_type": "code",
     "collapsed": false,
     "input": [
      "%%R\n",
      "\n",
      "df$date = as.Date(df$date, '%B %d, %Y')\n",
      "\n",
      "print(head(df)); cat('\\n\\n')\n",
      "\n",
      "data.frame(lapply(df, class))"
     ],
     "language": "python",
     "metadata": {
      "slideshow": {
       "slide_type": "slide"
      }
     },
     "outputs": [
      {
       "metadata": {},
       "output_type": "display_data",
       "text": [
        "  rank                               name      box       date\n",
        "1    1                             Avatar $759.563 2009-12-18\n",
        "2    2                            Titanic $600.788 1997-12-19\n",
        "3    3                    The Dark Knight $533.184 2008-07-18\n",
        "4    4 Star Wars: Episode IV - A New Hope $460.998 1977-05-25\n",
        "5    5                            Shrek 2 $437.212 2004-05-19\n",
        "6    6         E.T. the Extra-Terrestrial $434.975 1982-06-11\n",
        "\n",
        "\n",
        "     rank      name       box date\n",
        "1 integer character character Date\n"
       ]
      }
     ],
     "prompt_number": 19
    },
    {
     "cell_type": "heading",
     "level": 1,
     "metadata": {
      "slideshow": {
       "slide_type": "slide"
      }
     },
     "source": [
      "Regular expressions"
     ]
    },
    {
     "cell_type": "markdown",
     "metadata": {
      "slideshow": {
       "slide_type": "fragment"
      }
     },
     "source": [
      "We still need to correct our \"box\" collum, since it contains character strings of the type:\n",
      "\n",
      "    $759.563\n",
      "and we would like actual numerical values instead. \n",
      "\n",
      "Unfortunately, we can not use the **conversion function**\n",
      "\n",
      "    as.numeric(x)\n",
      "    \n",
      "directly because of the presence of the dollar sign. \n",
      "\n",
      "The return value would be in this case a vector of **NA values** (mising values)."
     ]
    },
    {
     "cell_type": "code",
     "collapsed": false,
     "input": [
      "%%R\n",
      "\n",
      "head(as.numeric(df$box))"
     ],
     "language": "python",
     "metadata": {
      "slideshow": {
       "slide_type": "fragment"
      }
     },
     "outputs": [
      {
       "metadata": {},
       "output_type": "display_data",
       "text": [
        "[1] NA NA NA NA NA NA\n"
       ]
      }
     ],
     "prompt_number": 20
    },
    {
     "cell_type": "markdown",
     "metadata": {
      "slideshow": {
       "slide_type": "slide"
      }
     },
     "source": [
      "R provides a [collection of function](http://stat.ethz.ch/R-manual/R-devel/library/base/html/grep.html) to find and replace **regular expressions** in character vectors:\n",
      "\n",
      "    grep(pattern, x)\n",
      "    sub(pattern, replacement, x)\n",
      "    gsub(pattern, replacement, x)\n",
      "    \n",
      "where \n",
      "\n",
      "* `x` is a character vector\n",
      "* `pattern` is regular expression to match and replace\n",
      "* `replacement` is the replacement regular expression\n",
      "\n",
      "`grep` returns the indices of elements matching `pattern` in the character vector `x`, while the two other functions, `sub` and `gsub` replace the matched pattern by `replacement` (the difference being that `sub` replaces only the first occurence of the matched pattern."
     ]
    },
    {
     "cell_type": "markdown",
     "metadata": {
      "slideshow": {
       "slide_type": "slide"
      }
     },
     "source": [
      "R uses the set of **extended regular expressions**.\n",
      "\n",
      "**Groups:**\n",
      "\n",
      "     ( ) delimits a group of characters\n",
      "     |   means \"either the group or character on the left or on the rigth of |\"\n",
      "     \n",
      "**Ranges:**\n",
      "\n",
      "       .    means \"any character\"\n",
      "     [...]  means \"any character enclosed between the brackets\"\n",
      "     [^...] means \"any character not enclosed between the brackets\"\n",
      "     \n",
      "     \n",
      "**Modifiers:**\n",
      "\n",
      "     *      means \"the previous character or group occurs zero or many times\"\n",
      "     +      means \"the previous character or group occurs one or many times\"\n",
      "     ?      means \"the previous character or group occurs zero or one time\"\n",
      "     {n,m}  means \"the previous character or group occurs between n or m times\"\n",
      "     {n}    means \"the previous character or group occurs exactly n times\"\n",
      "     \\      escape special characters\n",
      "\n",
      "**Positions:**\n",
      "\n",
      "     ^ means \"at the beginning of the line\"\n",
      "     $ means \"at the end of the line\"\n",
      "\n",
      "\n",
      "Ressources to train your regurlar expression muscles. \n",
      "\n",
      "* [Learning regular expression the hard way](http://regex.learncodethehardway.org/book/)\n"
     ]
    },
    {
     "cell_type": "markdown",
     "metadata": {
      "slideshow": {
       "slide_type": "slide"
      }
     },
     "source": [
      "In our example, we need to remove the dollar sign from the box column.\n",
      "\n",
      "Since the dollar sign has a special meaning as a regular expression, we will have to escape it:"
     ]
    },
    {
     "cell_type": "code",
     "collapsed": false,
     "input": [
      "%%R\n",
      "pattern     = '\\\\$'\n",
      "\n",
      "replacement = ''\n",
      "\n",
      "box_values = sub(pattern, replacement, df$box)\n",
      "\n",
      "tail(box_values)"
     ],
     "language": "python",
     "metadata": {
      "slideshow": {
       "slide_type": "fragment"
      }
     },
     "outputs": [
      {
       "metadata": {},
       "output_type": "display_data",
       "text": [
        "[1] \" 57.114\" \" 57.059\" \" 57.042\" \" 52.823\" \" 56.615\" \" 52.581\"\n"
       ]
      }
     ],
     "prompt_number": 21
    },
    {
     "cell_type": "markdown",
     "metadata": {
      "slideshow": {
       "slide_type": "fragment"
      }
     },
     "source": [
      "Now that the values has been stripped from the dollar sign, we can convert them into numbers, and replace the \"box\" column in our data frame:"
     ]
    },
    {
     "cell_type": "code",
     "collapsed": false,
     "input": [
      "%%R\n",
      "\n",
      "df$box = as.numeric(box_values)\n",
      "\n",
      "\n",
      "print(tail(df))\n",
      "\n",
      "data.frame(lapply(df, class))"
     ],
     "language": "python",
     "metadata": {
      "slideshow": {
       "slide_type": "fragment"
      }
     },
     "outputs": [
      {
       "metadata": {},
       "output_type": "display_data",
       "text": [
        "     rank                     name    box       date\n",
        "995   995                Beethoven 57.114 1992-04-03\n",
        "996   996                    Annie 57.059 1982-05-21\n",
        "997   997                  Beaches 57.042 1988-12-21\n",
        "998   998      Message in a Bottle 52.823 1999-02-12\n",
        "999   999 Resident Evil: Afterlife 56.615 2010-09-10\n",
        "1000 1000    Kicking and Screaming 52.581 2005-05-13\n",
        "     rank      name     box date\n",
        "1 integer character numeric Date\n"
       ]
      }
     ],
     "prompt_number": 23
    },
    {
     "cell_type": "markdown",
     "metadata": {
      "slideshow": {
       "slide_type": "fragment"
      }
     },
     "source": [
      "Now we can save our data into a cleaned csv file for further use.\n"
     ]
    },
    {
     "cell_type": "code",
     "collapsed": false,
     "input": [
      "%%R\n",
      "\n",
      "write.table(df, file='movies_cleaned.table', sep='|', row.names=F)"
     ],
     "language": "python",
     "metadata": {
      "slideshow": {
       "slide_type": "fragment"
      }
     },
     "outputs": [],
     "prompt_number": 24
    },
    {
     "cell_type": "code",
     "collapsed": false,
     "input": [
      "%%R\n",
      "\n",
      "movies = read.delim('movies_cleaned.table', sep='|', header=T, stringsAsFactors=F)\n",
      "\n",
      "movies$date = as.Date(movies$date)\n",
      "\n",
      "head(movies)"
     ],
     "language": "python",
     "metadata": {
      "slideshow": {
       "slide_type": "fragment"
      }
     },
     "outputs": []
    },
    {
     "cell_type": "heading",
     "level": 1,
     "metadata": {
      "slideshow": {
       "slide_type": "slide"
      }
     },
     "source": [
      "Detecting abnormal values"
     ]
    },
    {
     "cell_type": "markdown",
     "metadata": {
      "slideshow": {
       "slide_type": "fragment"
      }
     },
     "source": [
      "One way to check if the values of a categorical variable are okay is to compute the statistic summary and look for aberrant means, medians, etc.\n",
      "\n",
      "Let's do that with the \"box\" variable:"
     ]
    },
    {
     "cell_type": "code",
     "collapsed": false,
     "input": [
      "%%R\n",
      "\n",
      "summary(df$box)"
     ],
     "language": "python",
     "metadata": {
      "slideshow": {
       "slide_type": "fragment"
      }
     },
     "outputs": [
      {
       "metadata": {},
       "output_type": "display_data",
       "text": [
        "   Min. 1st Qu.  Median    Mean 3rd Qu.    Max. \n",
        "  52.58   70.28   93.60  117.50  134.60  759.60 \n"
       ]
      }
     ],
     "prompt_number": 27
    },
    {
     "cell_type": "markdown",
     "metadata": {
      "slideshow": {
       "slide_type": "fragment"
      }
     },
     "source": [
      "This seems okay, but still, we'd like to see how many movies are close to the max and min values. \n",
      "\n",
      "Some erroneous outlier values may have crept in, and we may see that by plotting\n",
      "\n",
      "* a **boxplot** \n",
      "* a **histogram** \n",
      "\n",
      "of the variable values to spot outliers visualy."
     ]
    },
    {
     "cell_type": "code",
     "collapsed": false,
     "input": [
      "%%R -r 86 -w 400 -h 400\n",
      "\n",
      "boxplot(df$box, main=\"Movie box office summary\")"
     ],
     "language": "python",
     "metadata": {
      "slideshow": {
       "slide_type": "slide"
      }
     },
     "outputs": [
      {
       "metadata": {},
       "output_type": "display_data",
       "png": "[encoded data removed]"
      }
     ],
     "prompt_number": 29
    },
    {
     "cell_type": "markdown",
     "metadata": {
      "slideshow": {
       "slide_type": "slide"
      }
     },
     "source": [
      "It seems that there are quite a bunch of outliers. We may try to check the values\n",
      "by\n",
      "\n",
      "* retrieving the movie names\n",
      "* comparing their high success with our expectations\n"
     ]
    },
    {
     "cell_type": "code",
     "collapsed": false,
     "input": [
      "%%R\n",
      "\n",
      "limit = 400\n",
      "\n",
      "outliers = df[df$box > limit,]\n",
      "\n",
      "print(dim(outliers))\n",
      "print(outliers)"
     ],
     "language": "python",
     "metadata": {
      "slideshow": {
       "slide_type": "fragment"
      }
     },
     "outputs": [
      {
       "metadata": {},
       "output_type": "display_data",
       "text": [
        "[1] 11  4\n",
        "   rank                                       name     box       date\n",
        "1     1                                     Avatar 759.563 2009-12-18\n",
        "2     2                                    Titanic 600.788 1997-12-19\n",
        "3     3                            The Dark Knight 533.184 2008-07-18\n",
        "4     4         Star Wars: Episode IV - A New Hope 460.998 1977-05-25\n",
        "5     5                                    Shrek 2 437.212 2004-05-19\n",
        "6     6                 E.T. the Extra-Terrestrial 434.975 1982-06-11\n",
        "7     7  Star Wars: Episode I - The Phantom Menace 431.088 1999-05-19\n",
        "8     8 Pirates of the Caribbean: Dead Man's Chest 423.416 2006-07-07\n",
        "9     9                                Toy Story 3 414.638 2010-06-18\n",
        "10   10                                 Spider-Man 407.681 2002-05-03\n",
        "11   11        Transformers: Revenge of the Fallen 402.077 2009-06-24\n"
       ]
      }
     ],
     "prompt_number": 31
    },
    {
     "cell_type": "markdown",
     "metadata": {
      "slideshow": {
       "slide_type": "slide"
      }
     },
     "source": [
      "We can also plot an histogram of the variable:"
     ]
    },
    {
     "cell_type": "code",
     "collapsed": false,
     "input": [
      "%%R -r 86 -w 300 -h 300\n",
      "\n",
      "hist(df$box, main='Box office histogram')"
     ],
     "language": "python",
     "metadata": {
      "slideshow": {
       "slide_type": "fragment"
      }
     },
     "outputs": [
      {
       "metadata": {},
       "output_type": "display_data",
       "png": "[encoded data removed]"
      }
     ],
     "prompt_number": 33
    },
    {
     "cell_type": "markdown",
     "metadata": {
      "slideshow": {
       "slide_type": "fragment"
      }
     },
     "source": [
      "The situation seems to correspond to what we expect: A lot of movies in the same range, and a few with enormous box office."
     ]
    },
    {
     "cell_type": "heading",
     "level": 1,
     "metadata": {
      "slideshow": {
       "slide_type": "slide"
      }
     },
     "source": [
      "Adding variables"
     ]
    },
    {
     "cell_type": "markdown",
     "metadata": {
      "slideshow": {
       "slide_type": "fragment"
      }
     },
     "source": [
      "Since we have a temporal information, we maybe interested in  patterns in the time variable.\n",
      "\n",
      "We may want to add a variable for our analysis, for instance the day of the week that a movie was released. The function\n",
      "\n",
      "    weekdays(date)\n",
      "    months(date)\n",
      "will return the corresponding day of the week for a data.\n",
      "\n",
      "Let's use is to create another variable and add it as a factor:\n"
     ]
    },
    {
     "cell_type": "code",
     "collapsed": false,
     "input": [
      "%%R\n",
      "\n",
      "days = c('Monday', 'Tuesday', 'Wednesday', 'Thursday', 'Friday', 'Saturday', 'Sunday')\n",
      "\n",
      "df$weekday = factor(weekdays(df$date), levels=days)\n",
      "\n",
      "tail(df)"
     ],
     "language": "python",
     "metadata": {
      "slideshow": {
       "slide_type": "fragment"
      }
     },
     "outputs": [
      {
       "metadata": {},
       "output_type": "display_data",
       "text": [
        "     rank                     name    box       date   weekday\n",
        "995   995                Beethoven 57.114 1992-04-03    Friday\n",
        "996   996                    Annie 57.059 1982-05-21    Friday\n",
        "997   997                  Beaches 57.042 1988-12-21 Wednesday\n",
        "998   998      Message in a Bottle 52.823 1999-02-12    Friday\n",
        "999   999 Resident Evil: Afterlife 56.615 2010-09-10    Friday\n",
        "1000 1000    Kicking and Screaming 52.581 2005-05-13    Friday\n"
       ]
      }
     ],
     "prompt_number": 35
    },
    {
     "cell_type": "markdown",
     "metadata": {
      "slideshow": {
       "slide_type": "fragment"
      }
     },
     "source": [
      "We can now compute a frequency table for this new categorical variable, and diplay it as a barplot:"
     ]
    },
    {
     "cell_type": "code",
     "collapsed": false,
     "input": [
      "%%R\n",
      "\n",
      "release_days = table(df$weekday)\n",
      "release_days"
     ],
     "language": "python",
     "metadata": {
      "slideshow": {
       "slide_type": "fragment"
      }
     },
     "outputs": [
      {
       "metadata": {},
       "output_type": "display_data",
       "text": [
        "\n",
        "   Monday   Tuesday Wednesday  Thursday    Friday  Saturday    Sunday \n",
        "       10        22       161        39       750         7        11 \n"
       ]
      }
     ],
     "prompt_number": 36
    },
    {
     "cell_type": "markdown",
     "metadata": {
      "slideshow": {
       "slide_type": "fragment"
      }
     },
     "source": [
      "There seems to be a pattern emerging. Let see it with a plot:"
     ]
    },
    {
     "cell_type": "code",
     "collapsed": false,
     "input": [
      "%%R -r 86 -w 800 -h 300\n",
      "\n",
      "barplot(release_days)"
     ],
     "language": "python",
     "metadata": {
      "slideshow": {
       "slide_type": "fragment"
      }
     },
     "outputs": [
      {
       "metadata": {},
       "output_type": "display_data",
       "png": "[encoded data removed]"
      }
     ],
     "prompt_number": 37
    },
    {
     "cell_type": "code",
     "collapsed": false,
     "input": [],
     "language": "python",
     "metadata": {},
     "outputs": []
    }
   ],
   "metadata": {}
  }
 ]
}